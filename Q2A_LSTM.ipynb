{
  "nbformat": 4,
  "nbformat_minor": 0,
  "metadata": {
    "colab": {
      "provenance": [],
      "authorship_tag": "ABX9TyP+pnFAQjs2eqk8OKX+jQ6C",
      "include_colab_link": true
    },
    "kernelspec": {
      "name": "python3",
      "display_name": "Python 3"
    },
    "language_info": {
      "name": "python"
    }
  },
  "cells": [
    {
      "cell_type": "markdown",
      "metadata": {
        "id": "view-in-github",
        "colab_type": "text"
      },
      "source": [
        "<a href=\"https://colab.research.google.com/github/adampotton/Cognitive_AI_CW/blob/main/Q2A_LSTM.ipynb\" target=\"_parent\"><img src=\"https://colab.research.google.com/assets/colab-badge.svg\" alt=\"Open In Colab\"/></a>"
      ]
    },
    {
      "cell_type": "code",
      "source": [
        "! git clone https://github.com/neurogym/neurogym.git\n",
        "%cd neurogym/\n",
        "! pip install -e ."
      ],
      "metadata": {
        "collapsed": true,
        "id": "3gn4uXo2PPtk"
      },
      "execution_count": null,
      "outputs": []
    },
    {
      "cell_type": "code",
      "execution_count": 2,
      "metadata": {
        "colab": {
          "base_uri": "https://localhost:8080/"
        },
        "id": "D4RPIsY6LowX",
        "outputId": "1becdc02-c719-4593-c239-42d81562df53"
      },
      "outputs": [
        {
          "output_type": "stream",
          "name": "stderr",
          "text": [
            "Warning: Gym version v0.24.1 has a number of critical issues with `gym.make` such that environment observation and action spaces are incorrectly evaluated, raising incorrect errors and warning . It is recommend to downgrading to v0.23.1 or upgrading to v0.25.1\n",
            "/usr/local/lib/python3.10/dist-packages/gym/envs/registration.py:396: UserWarning: \u001b[33mWARN: The `registry.all` method is deprecated. Please use `registry.values` instead.\u001b[0m\n",
            "  logger.warn(\n"
          ]
        }
      ],
      "source": [
        "import neurogym as ngym\n",
        "import numpy as np\n",
        "import pandas as pd\n",
        "import torch\n",
        "import torch.nn as nn\n",
        "import torch.optim as optim\n",
        "import time"
      ]
    },
    {
      "cell_type": "markdown",
      "source": [
        "### Define a simple LSTM model"
      ],
      "metadata": {
        "id": "5xqGhnoAk1Gs"
      }
    },
    {
      "cell_type": "code",
      "source": [
        "class LSTMNet(nn.Module):\n",
        "    def __init__(self, input_size, hidden_size, output_size, num_lstm_layers = 2):\n",
        "        super(LSTMNet, self).__init__()\n",
        "        self.lstm = nn.LSTM(input_size, hidden_size, num_layers=num_lstm_layers) # n LSTM layers\n",
        "        self.fc = nn.Linear(hidden_size, output_size) # Fully connected layer\n",
        "\n",
        "    def forward(self, x):\n",
        "        lstm_output, _ = self.lstm(x)\n",
        "        out = self.fc(lstm_output)\n",
        "        return out, lstm_output"
      ],
      "metadata": {
        "colab": {
          "base_uri": "https://localhost:8080/"
        },
        "id": "TvUHo7Q4O0mZ",
        "outputId": "ba823194-4ca3-4b15-d5e3-37956722bc1f"
      },
      "execution_count": 3,
      "outputs": [
        {
          "output_type": "stream",
          "name": "stderr",
          "text": [
            "/usr/local/lib/python3.10/dist-packages/ipykernel/ipkernel.py:283: DeprecationWarning: `should_run_async` will not call `transform_cell` automatically in the future. Please pass the result to `transformed_cell` argument and any exception that happen during thetransform in `preprocessing_exc_tuple` in IPython 7.17 and above.\n",
            "  and should_run_async(code)\n"
          ]
        }
      ]
    },
    {
      "cell_type": "markdown",
      "source": [
        "### Creating dataset and adjusting parameters"
      ],
      "metadata": {
        "id": "1xE2ARNnlcXG"
      }
    },
    {
      "cell_type": "code",
      "source": [
        "config = {\n",
        "    'dt': 200, # Timestep parameter\n",
        "    'hidden_size': 32, # Hidden size for your LSTM\n",
        "    'batch_size': 32, # Batch size for training\n",
        "    'seq_len': 50, # Sequence length for input data\n",
        "    'envid': 'ReadySetGo-v0', # Task name\n",
        "    'gain': 2, # Custom gain\n",
        "    'prod_margin': 10, # Custom production margin\n",
        "}\n",
        "\n",
        "env_kwargs = {\n",
        "    'dt': config['dt'], # Assing timestep parameter\n",
        "    'gain': config['gain'],  # Controls the measure that the agent has to produce\n",
        "    'prod_margin': config['prod_margin'], # Controls the interval around the ground truth production time within which the agent receives proportional reward\n",
        "}\n",
        "config['env_kwargs'] = env_kwargs\n",
        "\n",
        "dataset = ngym.Dataset(config['envid'], env_kwargs=config['env_kwargs'], batch_size=config['batch_size'], seq_len=config['seq_len']) # Generate dataset\n",
        "env = dataset.env\n",
        "\n",
        "inputs, target = dataset() # Assing inputs and targets\n",
        "inputs = torch.from_numpy(inputs).type(torch.float)\n",
        "\n",
        "input_size = env.observation_space.shape[0] # Find dimensions for data\n",
        "output_size = env.action_space.n\n",
        "\n",
        "print('Input has shape (SeqLen, Batch, Dim) =', inputs.shape)\n",
        "print('Target has shape (SeqLen, Batch) =', target.shape)"
      ],
      "metadata": {
        "colab": {
          "base_uri": "https://localhost:8080/"
        },
        "id": "kEqrXBuGlbO6",
        "outputId": "ee3b1dbd-fccd-459a-e890-ba22b890d262"
      },
      "execution_count": 4,
      "outputs": [
        {
          "output_type": "stream",
          "name": "stderr",
          "text": [
            "/usr/local/lib/python3.10/dist-packages/gym/utils/passive_env_checker.py:69: UserWarning: \u001b[33mWARN: Agent's minimum action space value is -infinity. This is probably too low.\u001b[0m\n",
            "  logger.warn(\n",
            "/usr/local/lib/python3.10/dist-packages/gym/utils/passive_env_checker.py:73: UserWarning: \u001b[33mWARN: Agent's maximum action space value is infinity. This is probably too high\u001b[0m\n",
            "  logger.warn(\n",
            "/usr/local/lib/python3.10/dist-packages/gym/utils/passive_env_checker.py:97: UserWarning: \u001b[33mWARN: We recommend you to use a symmetric and normalized Box action space (range=[-1, 1]) https://stable-baselines3.readthedocs.io/en/master/guide/rl_tips.html\u001b[0m\n",
            "  logger.warn(\n"
          ]
        },
        {
          "output_type": "stream",
          "name": "stdout",
          "text": [
            "Input has shape (SeqLen, Batch, Dim) = torch.Size([50, 32, 3])\n",
            "Target has shape (SeqLen, Batch) = (50, 32)\n"
          ]
        }
      ]
    },
    {
      "cell_type": "markdown",
      "source": [
        "### Training the model"
      ],
      "metadata": {
        "id": "77PBTEEOlxQB"
      }
    },
    {
      "cell_type": "code",
      "source": [
        "iter_steps = 3000 # Training loops\n",
        "report_freq = 100 # How often a report on is returned\n",
        "\n",
        "net = LSTMNet(input_size, config['hidden_size'], output_size, num_lstm_layers = 2) # Create an instance of the LSTM\n",
        "\n",
        "def train_model(net, dataset, iter_steps, report_freq):\n",
        "\n",
        "    optimizer = optim.Adam(net.parameters(), lr=0.0003) # Adam optimiser\n",
        "    criterion = nn.CrossEntropyLoss() # Loss funciton\n",
        "\n",
        "    running_loss = 0\n",
        "    running_acc = 0\n",
        "    losses = []\n",
        "    accuracies = []\n",
        "    start_time = time.time() # Start training timer\n",
        "\n",
        "    for i in range(iter_steps):  # Loop over training batches\n",
        "        inputs, labels = dataset()  # Generate a set of data\n",
        "        inputs = torch.from_numpy(inputs).type(torch.float)\n",
        "        labels = torch.from_numpy(labels.flatten()).type(torch.long)\n",
        "\n",
        "        optimizer.zero_grad()  # Reset gradients\n",
        "        output, _ = net(inputs)\n",
        "        output = output.view(-1, output_size)\n",
        "        loss = criterion(output, labels)  # Calculate loss\n",
        "        loss.backward()\n",
        "        optimizer.step()  # Update weights\n",
        "\n",
        "        batch_acc = (torch.argmax(output, dim=1) == labels).sum().item() / labels.shape[0]  # Current batch accuracy\n",
        "        losses.append(loss.item())\n",
        "        accuracies.append(batch_acc)\n",
        "\n",
        "        if i % report_freq == report_freq - 1:\n",
        "            running_loss = sum(losses[-report_freq:]) / report_freq\n",
        "            running_acc = sum(accuracies[-report_freq:]) / report_freq\n",
        "            print('Step {}, Loss {:0.4f}, Accuracy {:0.4f}, Time {:0.1f}s'.format(\n",
        "                i + 1, running_loss, running_acc, time.time() - start_time))\n",
        "            running_loss = 0 # Reset metrics for next report\n",
        "            running_acc = 0\n",
        "    return net, losses, accuracies\n",
        "\n",
        "net, losses, accuracies = train_model(net, dataset, iter_steps, report_freq) # Call the training function"
      ],
      "metadata": {
        "colab": {
          "base_uri": "https://localhost:8080/"
        },
        "id": "milzVKfVSmQT",
        "outputId": "9b54d8c0-f56b-45bd-8787-c467ac11e1c6"
      },
      "execution_count": 25,
      "outputs": [
        {
          "output_type": "stream",
          "name": "stderr",
          "text": [
            "/usr/local/lib/python3.10/dist-packages/ipykernel/ipkernel.py:283: DeprecationWarning: `should_run_async` will not call `transform_cell` automatically in the future. Please pass the result to `transformed_cell` argument and any exception that happen during thetransform in `preprocessing_exc_tuple` in IPython 7.17 and above.\n",
            "  and should_run_async(code)\n"
          ]
        },
        {
          "output_type": "stream",
          "name": "stdout",
          "text": [
            "Step 50, Loss 0.5585, Accuracy 0.9623, Time 1.0s\n",
            "Step 100, Loss 0.3275, Accuracy 0.9626, Time 2.1s\n",
            "Step 150, Loss 0.1809, Accuracy 0.9625, Time 3.1s\n",
            "Step 200, Loss 0.1796, Accuracy 0.9623, Time 4.1s\n",
            "Step 250, Loss 0.1768, Accuracy 0.9625, Time 5.4s\n",
            "Step 300, Loss 0.1749, Accuracy 0.9623, Time 6.9s\n",
            "Step 350, Loss 0.1738, Accuracy 0.9622, Time 8.1s\n",
            "Step 400, Loss 0.1721, Accuracy 0.9625, Time 9.1s\n",
            "Step 450, Loss 0.1711, Accuracy 0.9623, Time 10.1s\n",
            "Step 500, Loss 0.1697, Accuracy 0.9624, Time 11.2s\n",
            "Step 550, Loss 0.1683, Accuracy 0.9623, Time 12.2s\n",
            "Step 600, Loss 0.1671, Accuracy 0.9623, Time 13.3s\n",
            "Step 650, Loss 0.1665, Accuracy 0.9622, Time 14.2s\n",
            "Step 700, Loss 0.1627, Accuracy 0.9623, Time 15.3s\n",
            "Step 750, Loss 0.1571, Accuracy 0.9624, Time 16.4s\n",
            "Step 800, Loss 0.1413, Accuracy 0.9625, Time 17.3s\n",
            "Step 850, Loss 0.1294, Accuracy 0.9628, Time 18.8s\n",
            "Step 900, Loss 0.1211, Accuracy 0.9622, Time 20.4s\n",
            "Step 950, Loss 0.1053, Accuracy 0.9623, Time 21.4s\n",
            "Step 1000, Loss 0.0947, Accuracy 0.9624, Time 22.5s\n",
            "Step 1050, Loss 0.0863, Accuracy 0.9626, Time 23.5s\n",
            "Step 1100, Loss 0.0758, Accuracy 0.9846, Time 24.5s\n",
            "Step 1150, Loss 0.0666, Accuracy 0.9899, Time 25.5s\n",
            "Step 1200, Loss 0.0599, Accuracy 0.9898, Time 26.5s\n",
            "Step 1250, Loss 0.0566, Accuracy 0.9899, Time 27.5s\n",
            "Step 1300, Loss 0.0511, Accuracy 0.9904, Time 28.6s\n",
            "Step 1350, Loss 0.0510, Accuracy 0.9899, Time 29.6s\n",
            "Step 1400, Loss 0.0478, Accuracy 0.9902, Time 30.7s\n",
            "Step 1450, Loss 0.0472, Accuracy 0.9898, Time 32.3s\n",
            "Step 1500, Loss 0.0450, Accuracy 0.9902, Time 33.7s\n",
            "Step 1550, Loss 0.0448, Accuracy 0.9900, Time 34.8s\n",
            "Step 1600, Loss 0.0421, Accuracy 0.9907, Time 35.8s\n",
            "Step 1650, Loss 0.0440, Accuracy 0.9899, Time 36.9s\n",
            "Step 1700, Loss 0.0432, Accuracy 0.9901, Time 37.9s\n",
            "Step 1750, Loss 0.0422, Accuracy 0.9901, Time 39.0s\n",
            "Step 1800, Loss 0.0432, Accuracy 0.9898, Time 40.0s\n",
            "Step 1850, Loss 0.0425, Accuracy 0.9899, Time 41.0s\n",
            "Step 1900, Loss 0.0410, Accuracy 0.9902, Time 42.1s\n",
            "Step 1950, Loss 0.0409, Accuracy 0.9902, Time 43.1s\n",
            "Step 2000, Loss 0.0433, Accuracy 0.9893, Time 44.5s\n",
            "Step 2050, Loss 0.0396, Accuracy 0.9904, Time 46.2s\n",
            "Step 2100, Loss 0.0394, Accuracy 0.9903, Time 47.4s\n",
            "Step 2150, Loss 0.0413, Accuracy 0.9897, Time 48.4s\n",
            "Step 2200, Loss 0.0400, Accuracy 0.9900, Time 49.6s\n",
            "Step 2250, Loss 0.0379, Accuracy 0.9904, Time 50.6s\n",
            "Step 2300, Loss 0.0383, Accuracy 0.9900, Time 51.6s\n",
            "Step 2350, Loss 0.0369, Accuracy 0.9901, Time 52.7s\n",
            "Step 2400, Loss 0.0383, Accuracy 0.9896, Time 53.7s\n",
            "Step 2450, Loss 0.0383, Accuracy 0.9895, Time 54.7s\n",
            "Step 2500, Loss 0.0353, Accuracy 0.9902, Time 55.9s\n",
            "Step 2550, Loss 0.0357, Accuracy 0.9901, Time 57.2s\n",
            "Step 2600, Loss 0.0364, Accuracy 0.9899, Time 58.7s\n",
            "Step 2650, Loss 0.0344, Accuracy 0.9903, Time 60.0s\n",
            "Step 2700, Loss 0.0361, Accuracy 0.9898, Time 61.1s\n",
            "Step 2750, Loss 0.0363, Accuracy 0.9897, Time 62.2s\n",
            "Step 2800, Loss 0.0334, Accuracy 0.9904, Time 63.3s\n",
            "Step 2850, Loss 0.0329, Accuracy 0.9905, Time 64.4s\n",
            "Step 2900, Loss 0.0348, Accuracy 0.9900, Time 65.3s\n",
            "Step 2950, Loss 0.0323, Accuracy 0.9907, Time 66.5s\n",
            "Step 3000, Loss 0.0351, Accuracy 0.9898, Time 67.7s\n"
          ]
        }
      ]
    },
    {
      "cell_type": "markdown",
      "source": [
        "### Sparsity"
      ],
      "metadata": {
        "id": "n1VXxpWTJ_Gb"
      }
    },
    {
      "cell_type": "code",
      "source": [
        "sparsity = 0\n",
        "total_params = 0\n",
        "for param in net.parameters():\n",
        "    if param.requires_grad: # Only check sparsity on weight parameters\n",
        "        total_params += param.numel() # Number of weights\n",
        "        sparsity += torch.sum(param <= 0.00001).item() # Number of weights very close to 0\n",
        "\n",
        "sparsity_ratio = sparsity / total_params # Ratio of weights close to 0 to total weights\n",
        "print('Model Sparsity Ratio:', sparsity_ratio)"
      ],
      "metadata": {
        "colab": {
          "base_uri": "https://localhost:8080/"
        },
        "id": "jrILCuYiJT2l",
        "outputId": "263e6dcb-2892-4be6-dde7-87c7b2b98d58"
      },
      "execution_count": 31,
      "outputs": [
        {
          "output_type": "stream",
          "name": "stdout",
          "text": [
            "Sparsity ratio: 0.508\n"
          ]
        },
        {
          "output_type": "stream",
          "name": "stderr",
          "text": [
            "/usr/local/lib/python3.10/dist-packages/ipykernel/ipkernel.py:283: DeprecationWarning: `should_run_async` will not call `transform_cell` automatically in the future. Please pass the result to `transformed_cell` argument and any exception that happen during thetransform in `preprocessing_exc_tuple` in IPython 7.17 and above.\n",
            "  and should_run_async(code)\n"
          ]
        }
      ]
    },
    {
      "cell_type": "markdown",
      "source": [
        "### Plot loss and accuracy over iterations"
      ],
      "metadata": {
        "id": "2la150iVprF4"
      }
    },
    {
      "cell_type": "code",
      "source": [
        "avg_losses = []\n",
        "avg_accuracies = []\n",
        "report_freq = 20\n",
        "for i in range(report_freq - 1, len(losses), report_freq):\n",
        "    avg_losses.append(sum(losses[i-report_freq+1:i+1]) / report_freq)\n",
        "    avg_accuracies.append(sum(accuracies[i-report_freq+1:i+1]) / report_freq)\n",
        "\n",
        "iterations = range(report_freq, len(losses) + 1, report_freq)\n",
        "\n",
        "import matplotlib.pyplot as plt\n",
        "plt.rcParams['font.family'] = 'sans-serif'\n",
        "plt.rcParams['font.sans-serif'] = ['DejaVu Sans']\n",
        "\n",
        "# Plot Loss\n",
        "plt.figure(figsize=(12, 6))\n",
        "plt.subplot(1, 2, 1)\n",
        "plt.plot(iterations, avg_losses, label='Loss', color='blue')\n",
        "plt.xlabel('Iterations')\n",
        "plt.ylabel('Loss')\n",
        "plt.title('Training Loss (Model 1)')\n",
        "plt.legend()\n",
        "\n",
        "# Plot Accuracy\n",
        "plt.subplot(1, 2, 2)\n",
        "plt.plot(iterations, avg_accuracies, label='Accuracy', color='green')\n",
        "plt.xlabel('Iterations')\n",
        "plt.ylabel('Accuracy')\n",
        "plt.ylim(0.8, 1.01)\n",
        "plt.title('Training Accuracy (Model 1)')\n",
        "plt.legend()\n",
        "\n",
        "plt.tight_layout()\n",
        "plt.show()"
      ],
      "metadata": {
        "colab": {
          "base_uri": "https://localhost:8080/",
          "height": 670
        },
        "id": "a6gD6lmfqAAR",
        "outputId": "964ec0ac-75ee-4bea-a962-6b73cfa1e20e"
      },
      "execution_count": 6,
      "outputs": [
        {
          "output_type": "stream",
          "name": "stderr",
          "text": [
            "/usr/local/lib/python3.10/dist-packages/ipykernel/ipkernel.py:283: DeprecationWarning: `should_run_async` will not call `transform_cell` automatically in the future. Please pass the result to `transformed_cell` argument and any exception that happen during thetransform in `preprocessing_exc_tuple` in IPython 7.17 and above.\n",
            "  and should_run_async(code)\n"
          ]
        },
        {
          "output_type": "display_data",
          "data": {
            "text/plain": [
              "<Figure size 1200x600 with 2 Axes>"
            ],
            "image/png": "[encoded data removed]"
          },
          "metadata": {}
        }
      ]
    },
    {
      "cell_type": "markdown",
      "source": [
        "### Testing"
      ],
      "metadata": {
        "id": "f7yhESIJJ7Ip"
      }
    },
    {
      "cell_type": "code",
      "source": [
        "env = dataset.env # Reset environment\n",
        "env.reset(no_step=True)\n",
        "\n",
        "for i in range(500):\n",
        "    test_inputs, test_labels = dataset()\n",
        "    test_inputs = torch.from_numpy(test_inputs).type(torch.float)\n",
        "    test_labels = torch.from_numpy(test_labels.flatten()).type(torch.long)\n",
        "    test_accs = []\n",
        "    with torch.no_grad():\n",
        "        test_output, _ = net(test_inputs)\n",
        "        test_output = test_output.view(-1, output_size)\n",
        "        criterion = nn.CrossEntropyLoss()\n",
        "        test_loss = criterion(test_output, test_labels)\n",
        "        test_acc = (torch.argmax(test_output, dim=1) == test_labels).sum().item() / test_labels.shape[0]\n",
        "        test_accs.append(test_acc)\n",
        "\n",
        "print('Test Accuracy:', np.mean(test_accs))"
      ],
      "metadata": {
        "colab": {
          "base_uri": "https://localhost:8080/"
        },
        "id": "FWqjVx08i1Tj",
        "outputId": "ad7aae84-a870-4eb9-8754-68824cd2e9be"
      },
      "execution_count": 27,
      "outputs": [
        {
          "output_type": "stream",
          "name": "stderr",
          "text": [
            "/usr/local/lib/python3.10/dist-packages/ipykernel/ipkernel.py:283: DeprecationWarning: `should_run_async` will not call `transform_cell` automatically in the future. Please pass the result to `transformed_cell` argument and any exception that happen during thetransform in `preprocessing_exc_tuple` in IPython 7.17 and above.\n",
            "  and should_run_async(code)\n"
          ]
        },
        {
          "output_type": "stream",
          "name": "stdout",
          "text": [
            "Test Accuracy: 0.9925\n"
          ]
        }
      ]
    }
  ]
}