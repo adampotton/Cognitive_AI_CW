{
  "nbformat": 4,
  "nbformat_minor": 0,
  "metadata": {
    "colab": {
      "provenance": [],
      "authorship_tag": "ABX9TyN1xnc0kMy/Wi8+TI+DbZXh",
      "include_colab_link": true
    },
    "kernelspec": {
      "name": "python3",
      "display_name": "Python 3"
    },
    "language_info": {
      "name": "python"
    }
  },
  "cells": [
    {
      "cell_type": "markdown",
      "metadata": {
        "id": "view-in-github",
        "colab_type": "text"
      },
      "source": [
        "<a href=\"https://colab.research.google.com/github/adampotton/Cognitive_AI_CW/blob/main/Q2D_4.ipynb\" target=\"_parent\"><img src=\"https://colab.research.google.com/assets/colab-badge.svg\" alt=\"Open In Colab\"/></a>"
      ]
    },
    {
      "cell_type": "markdown",
      "source": [
        "Centre bias attention mask, mimics the implicit attention paid to the centre of the visual field"
      ],
      "metadata": {
        "id": "lXKBmG1sxJfR"
      }
    },
    {
      "cell_type": "markdown",
      "source": [
        "### Imports"
      ],
      "metadata": {
        "id": "ygDMYjoqsP39"
      }
    },
    {
      "cell_type": "code",
      "execution_count": 1,
      "metadata": {
        "id": "WX9z1qF3r50s",
        "colab": {
          "base_uri": "https://localhost:8080/"
        },
        "outputId": "b73f1782-86c0-4d60-89f3-a007f47c6f6c"
      },
      "outputs": [
        {
          "output_type": "stream",
          "name": "stdout",
          "text": [
            "Mounted at /content/drive\n"
          ]
        }
      ],
      "source": [
        "import numpy as np\n",
        "import pandas as pd\n",
        "import matplotlib.pyplot as plt\n",
        "import random\n",
        "import torch\n",
        "import torch.nn as nn\n",
        "import time\n",
        "import torch.optim as optim\n",
        "import torch.nn.functional as F\n",
        "from torchvision import datasets, transforms\n",
        "from torch.utils.data import DataLoader\n",
        "from google.colab import drive\n",
        "drive.mount('/content/drive')\n"
      ]
    },
    {
      "cell_type": "markdown",
      "source": [
        "### Define Model with Attention Layers"
      ],
      "metadata": {
        "id": "0KLZsz4jzWMu"
      }
    },
    {
      "cell_type": "code",
      "source": [
        "img_size_div4 = 45  # Image size\n",
        "\n",
        "class CenterBiasAttentionLayer(nn.Module):\n",
        "    def __init__(self, img_size, in_channels):\n",
        "        super(CenterBiasAttentionLayer, self).__init__()\n",
        "        self.img_size = img_size\n",
        "        self.in_channels = in_channels\n",
        "\n",
        "        # Create a static center bias mask\n",
        "        y, x = torch.meshgrid(torch.linspace(-1, 1, img_size), torch.linspace(-1, 1, img_size))\n",
        "        self.register_buffer(\"center_bias\", torch.exp(-(x**2 + y**2) / 0.3))  # Gaussian falloff\n",
        "\n",
        "    def forward(self, x):\n",
        "        b, c, h, w = x.size()\n",
        "        # Resize the center bias mask to match feature map size\n",
        "        resized_bias = F.interpolate(self.center_bias[None, None, :, :], size=(h, w), mode='bilinear', align_corners=True)\n",
        "        attention_mask = resized_bias.repeat(b, c, 1, 1)  # Repeat for batch and channels\n",
        "\n",
        "        return x * attention_mask\n",
        "\n",
        "class CNN(nn.Module):\n",
        "    def __init__(self):\n",
        "        super(CNN, self).__init__()\n",
        "        self.conv1 = nn.Conv2d(in_channels=3, out_channels=8, kernel_size=3, padding=1)\n",
        "        self.conv2 = nn.Conv2d(in_channels=8, out_channels=16, kernel_size=3, padding=1)\n",
        "        self.pool = nn.MaxPool2d(kernel_size=2, stride=2)\n",
        "        self.dropout = nn.Dropout(p=0.5)\n",
        "        self.fc1 = nn.Linear(16 * img_size_div4 * img_size_div4, 128)\n",
        "        self.fc2 = nn.Linear(128, 3)\n",
        "        self.attn1 = CenterBiasAttentionLayer(img_size // 2, 8)  # Attention after first pooling\n",
        "        self.attn2 = CenterBiasAttentionLayer(img_size // 4, 16)  # Attention after second pooling\n",
        "\n",
        "    def forward(self, x, attn_on=True):\n",
        "        x = self.pool(torch.relu(self.conv1(x)))\n",
        "        if attn_on:\n",
        "            x = self.attn1(x)  # Apply center bias after the first layer\n",
        "        x = self.pool(torch.relu(self.conv2(x)))\n",
        "        if attn_on:\n",
        "            x = self.attn2(x)  # Apply center bias after the second layer\n",
        "        x = self.dropout(x)\n",
        "        x = x.view(-1, 16 * img_size_div4 * img_size_div4)\n",
        "        x = torch.relu(self.fc1(x))\n",
        "        x = self.dropout(x)\n",
        "        x = self.fc2(x)\n",
        "        return x\n"
      ],
      "metadata": {
        "id": "vH4MCiFXsSnz"
      },
      "execution_count": 30,
      "outputs": []
    },
    {
      "cell_type": "markdown",
      "source": [
        "### Load and Edit Data"
      ],
      "metadata": {
        "id": "smpcHqbbjxzP"
      }
    },
    {
      "cell_type": "code",
      "source": [
        "img_size = img_size_div4 * 4 # Define image size\n",
        "\n",
        "train_transform = transforms.Compose([ # Define transformations for training\n",
        "    transforms.Resize((img_size, img_size)),  # Resize images to the desired size\n",
        "    transforms.RandomHorizontalFlip(p=0.5),  # Randomly flip images horizontally\n",
        "    transforms.RandomRotation(degrees=4),   # Randomly rotate images by up to 15 degrees\n",
        "    transforms.ToTensor(),  # Convert to tensor\n",
        "    transforms.Normalize(mean=[0.485, 0.456, 0.406], std=[0.229, 0.224, 0.225])  # Normalize\n",
        "])\n",
        "\n",
        "test_transform = transforms.Compose([ # Define transformations for testing (no augmentation)\n",
        "    transforms.Resize((img_size, img_size)),  # Resize images to the desired size\n",
        "    transforms.ToTensor(),  # Convert to tensor\n",
        "    transforms.Normalize(mean=[0.485, 0.456, 0.406], std=[0.229, 0.224, 0.225])  # Normalize\n",
        "])\n",
        "\n",
        "# Define paths to your train and test directories\n",
        "train_dir = '/content/drive/MyDrive/Cognitive_AI/shoes/train'\n",
        "test_dir = '/content/drive/MyDrive/Cognitive_AI/shoes/test'\n",
        "\n",
        "batch_size = 20\n",
        "train_dataset = datasets.ImageFolder(root=train_dir, transform=train_transform) # Load datasets using ImageFolder\n",
        "test_dataset = datasets.ImageFolder(root=test_dir, transform=test_transform)\n",
        "train_loader = DataLoader(train_dataset, batch_size=batch_size, shuffle=True) # Create DataLoader for batching\n",
        "test_loader = DataLoader(test_dataset, batch_size=batch_size, shuffle=False)"
      ],
      "metadata": {
        "id": "rN-BvdJ8j3Oh"
      },
      "execution_count": 31,
      "outputs": []
    },
    {
      "cell_type": "markdown",
      "source": [
        "### Train the Model"
      ],
      "metadata": {
        "id": "m0n_JhOTj4M4"
      }
    },
    {
      "cell_type": "code",
      "source": [
        "lr = 0.0006 # Learning rate\n",
        "num_epochs = 20 # Number of epochs for training\n",
        "\n",
        "model = CNN() # Initialise a model\n",
        "criterion = nn.CrossEntropyLoss()  # Loss function and optimizer\n",
        "optimizer = optim.Adam(model.parameters(), lr=lr)\n",
        "t = time.time() # Start timer\n",
        "for epoch in range(num_epochs):\n",
        "    model.train()  # Set model to training mode\n",
        "    running_loss = 0.0\n",
        "    correct = 0\n",
        "    total = 0\n",
        "\n",
        "    for images, labels in train_loader: # Loop through images and labels to train\n",
        "        optimizer.zero_grad()\n",
        "        output = model(images)\n",
        "        loss = criterion(output, labels)\n",
        "        running_loss += loss.item()\n",
        "        loss.backward()\n",
        "        optimizer.step()\n",
        "        _, predicted = torch.max(output, 1)\n",
        "        total += labels.size(0)\n",
        "        correct += (predicted == labels).sum().item()\n",
        "\n",
        "    time_elapsed = time.time() - t # Calculate time elapsed\n",
        "    epoch_loss = running_loss / len(train_loader)\n",
        "    epoch_accuracy = correct / total\n",
        "    print(f\"Epoch {epoch+1}/{num_epochs}, Loss: {epoch_loss:.4f}, Accuracy: {epoch_accuracy:.4f}, Time: {time_elapsed}\")\n"
      ],
      "metadata": {
        "colab": {
          "base_uri": "https://localhost:8080/"
        },
        "id": "q5l_RuK9zpdb",
        "outputId": "bd6430f1-f9e5-45b6-f8a6-9ea074835fac"
      },
      "execution_count": 32,
      "outputs": [
        {
          "output_type": "stream",
          "name": "stdout",
          "text": [
            "Epoch 1/20, Loss: 1.1132, Accuracy: 0.3179, Time: 16.807798624038696\n",
            "Epoch 2/20, Loss: 1.0895, Accuracy: 0.4037, Time: 31.647366523742676\n",
            "Epoch 3/20, Loss: 1.0801, Accuracy: 0.4008, Time: 46.43542671203613\n",
            "Epoch 4/20, Loss: 1.0624, Accuracy: 0.4599, Time: 61.338538646698\n",
            "Epoch 5/20, Loss: 1.0403, Accuracy: 0.4993, Time: 76.92940878868103\n",
            "Epoch 6/20, Loss: 1.0227, Accuracy: 0.4796, Time: 91.47542262077332\n",
            "Epoch 7/20, Loss: 0.9981, Accuracy: 0.5063, Time: 106.04272079467773\n",
            "Epoch 8/20, Loss: 0.9578, Accuracy: 0.5556, Time: 122.423898935318\n",
            "Epoch 9/20, Loss: 0.9532, Accuracy: 0.5598, Time: 137.37043523788452\n",
            "Epoch 10/20, Loss: 0.9112, Accuracy: 0.5752, Time: 152.21214151382446\n",
            "Epoch 11/20, Loss: 0.8796, Accuracy: 0.6174, Time: 167.20097303390503\n",
            "Epoch 12/20, Loss: 0.8455, Accuracy: 0.6006, Time: 182.04287910461426\n",
            "Epoch 13/20, Loss: 0.7975, Accuracy: 0.6723, Time: 196.5168330669403\n",
            "Epoch 14/20, Loss: 0.8311, Accuracy: 0.6315, Time: 212.2422914505005\n",
            "Epoch 15/20, Loss: 0.7908, Accuracy: 0.6526, Time: 227.03540062904358\n",
            "Epoch 16/20, Loss: 0.7412, Accuracy: 0.6878, Time: 241.6510648727417\n",
            "Epoch 17/20, Loss: 0.7349, Accuracy: 0.6962, Time: 256.7215964794159\n",
            "Epoch 18/20, Loss: 0.7132, Accuracy: 0.6920, Time: 271.65568947792053\n",
            "Epoch 19/20, Loss: 0.6907, Accuracy: 0.7243, Time: 287.3269786834717\n",
            "Epoch 20/20, Loss: 0.6817, Accuracy: 0.7300, Time: 303.28038907051086\n"
          ]
        }
      ]
    },
    {
      "cell_type": "markdown",
      "source": [
        "### Testing the Model"
      ],
      "metadata": {
        "id": "jSD8hS5Vtche"
      }
    },
    {
      "cell_type": "code",
      "source": [
        "model.eval()  # Set model to evaluation mode\n",
        "correct = 0\n",
        "total = 0\n",
        "\n",
        "with torch.no_grad():  # No need to track gradients during evaluation\n",
        "    for images, labels in test_loader:\n",
        "        output = model(images)\n",
        "        _, predicted = torch.max(output, 1)\n",
        "        total += labels.size(0)\n",
        "        correct += (predicted == labels).sum().item()\n",
        "\n",
        "test_accuracy = correct / total\n",
        "print(f\"Test Accuracy: {test_accuracy:.4f}\")"
      ],
      "metadata": {
        "id": "uhiFRKeH6R_f",
        "outputId": "27f239d7-be32-47aa-f36e-fbf5ca9e2b92",
        "colab": {
          "base_uri": "https://localhost:8080/"
        }
      },
      "execution_count": 33,
      "outputs": [
        {
          "output_type": "stream",
          "name": "stdout",
          "text": [
            "Test Accuracy: 0.5614\n"
          ]
        }
      ]
    },
    {
      "cell_type": "code",
      "source": [
        "center_bias_mask = model.attn1.center_bias.cpu().numpy().squeeze()\n",
        "plt.imshow(center_bias_mask, cmap='hot')\n",
        "plt.title(\"Center Bias Mask\")\n",
        "plt.colorbar()\n",
        "plt.show()\n"
      ],
      "metadata": {
        "colab": {
          "base_uri": "https://localhost:8080/",
          "height": 452
        },
        "id": "b7hv46J04tnR",
        "outputId": "4b5de9cb-15b3-4e1c-d197-f024d27a26a8"
      },
      "execution_count": 34,
      "outputs": [
        {
          "output_type": "display_data",
          "data": {
            "text/plain": [
              "<Figure size 640x480 with 2 Axes>"
            ],
            "image/png": "[encoded data removed]"
          },
          "metadata": {}
        }
      ]
    }
  ]
}