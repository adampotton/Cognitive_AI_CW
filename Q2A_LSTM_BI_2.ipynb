{
  "nbformat": 4,
  "nbformat_minor": 0,
  "metadata": {
    "colab": {
      "provenance": [],
      "authorship_tag": "ABX9TyNRb42yqL9Cg5ybOjsDXtPe",
      "include_colab_link": true
    },
    "kernelspec": {
      "name": "python3",
      "display_name": "Python 3"
    },
    "language_info": {
      "name": "python"
    }
  },
  "cells": [
    {
      "cell_type": "markdown",
      "metadata": {
        "id": "view-in-github",
        "colab_type": "text"
      },
      "source": [
        "<a href=\"https://colab.research.google.com/github/adampotton/Cognitive_AI_CW/blob/main/Q2A_LSTM_BI_2.ipynb\" target=\"_parent\"><img src=\"https://colab.research.google.com/assets/colab-badge.svg\" alt=\"Open In Colab\"/></a>"
      ]
    },
    {
      "cell_type": "markdown",
      "source": [
        "## Adpating the LSTM model architecture to tackle sparsity"
      ],
      "metadata": {
        "id": "sXVSJrSC5bzt"
      }
    },
    {
      "cell_type": "code",
      "source": [
        "! git clone https://github.com/neurogym/neurogym.git\n",
        "%cd neurogym/\n",
        "! pip install -e ."
      ],
      "metadata": {
        "colab": {
          "base_uri": "https://localhost:8080/"
        },
        "collapsed": true,
        "id": "3gn4uXo2PPtk",
        "outputId": "44a53d4c-8e55-4224-cacd-b2dd9e7e869b"
      },
      "execution_count": 1,
      "outputs": [
        {
          "output_type": "stream",
          "name": "stdout",
          "text": [
            "Cloning into 'neurogym'...\n",
            "remote: Enumerating objects: 11100, done.\u001b[K\n",
            "remote: Counting objects: 100% (1002/1002), done.\u001b[K\n",
            "remote: Compressing objects: 100% (106/106), done.\u001b[K\n",
            "remote: Total 11100 (delta 928), reused 896 (delta 896), pack-reused 10098 (from 1)\u001b[K\n",
            "Receiving objects: 100% (11100/11100), 8.17 MiB | 7.04 MiB/s, done.\n",
            "Resolving deltas: 100% (8333/8333), done.\n",
            "/content/neurogym\n",
            "Obtaining file:///content/neurogym\n",
            "  Preparing metadata (setup.py) ... \u001b[?25l\u001b[?25hdone\n",
            "Requirement already satisfied: numpy in /usr/local/lib/python3.10/dist-packages (from neurogym==0.0.2) (1.26.4)\n",
            "Collecting gym<0.25,>=0.20.0 (from neurogym==0.0.2)\n",
            "  Downloading gym-0.24.1.tar.gz (696 kB)\n",
            "\u001b[2K     \u001b[90m━━━━━━━━━━━━━━━━━━━━━━━━━━━━━━━━━━━━━━━━\u001b[0m \u001b[32m696.4/696.4 kB\u001b[0m \u001b[31m9.2 MB/s\u001b[0m eta \u001b[36m0:00:00\u001b[0m\n",
            "\u001b[?25h  Installing build dependencies ... \u001b[?25l\u001b[?25hdone\n",
            "  Getting requirements to build wheel ... \u001b[?25l\u001b[?25hdone\n",
            "  Preparing metadata (pyproject.toml) ... \u001b[?25l\u001b[?25hdone\n",
            "Requirement already satisfied: matplotlib in /usr/local/lib/python3.10/dist-packages (from neurogym==0.0.2) (3.8.0)\n",
            "Requirement already satisfied: cloudpickle>=1.2.0 in /usr/local/lib/python3.10/dist-packages (from gym<0.25,>=0.20.0->neurogym==0.0.2) (3.1.0)\n",
            "Requirement already satisfied: gym-notices>=0.0.4 in /usr/local/lib/python3.10/dist-packages (from gym<0.25,>=0.20.0->neurogym==0.0.2) (0.0.8)\n",
            "Requirement already satisfied: contourpy>=1.0.1 in /usr/local/lib/python3.10/dist-packages (from matplotlib->neurogym==0.0.2) (1.3.0)\n",
            "Requirement already satisfied: cycler>=0.10 in /usr/local/lib/python3.10/dist-packages (from matplotlib->neurogym==0.0.2) (0.12.1)\n",
            "Requirement already satisfied: fonttools>=4.22.0 in /usr/local/lib/python3.10/dist-packages (from matplotlib->neurogym==0.0.2) (4.54.1)\n",
            "Requirement already satisfied: kiwisolver>=1.0.1 in /usr/local/lib/python3.10/dist-packages (from matplotlib->neurogym==0.0.2) (1.4.7)\n",
            "Requirement already satisfied: packaging>=20.0 in /usr/local/lib/python3.10/dist-packages (from matplotlib->neurogym==0.0.2) (24.2)\n",
            "Requirement already satisfied: pillow>=6.2.0 in /usr/local/lib/python3.10/dist-packages (from matplotlib->neurogym==0.0.2) (11.0.0)\n",
            "Requirement already satisfied: pyparsing>=2.3.1 in /usr/local/lib/python3.10/dist-packages (from matplotlib->neurogym==0.0.2) (3.2.0)\n",
            "Requirement already satisfied: python-dateutil>=2.7 in /usr/local/lib/python3.10/dist-packages (from matplotlib->neurogym==0.0.2) (2.8.2)\n",
            "Requirement already satisfied: six>=1.5 in /usr/local/lib/python3.10/dist-packages (from python-dateutil>=2.7->matplotlib->neurogym==0.0.2) (1.16.0)\n",
            "Building wheels for collected packages: gym\n",
            "  Building wheel for gym (pyproject.toml) ... \u001b[?25l\u001b[?25hdone\n",
            "  Created wheel for gym: filename=gym-0.24.1-py3-none-any.whl size=793125 sha256=882029efa0d9c7b3d12016b1cfce5e8c63afb9de1db936308d4b997b8ab2a950\n",
            "  Stored in directory: /root/.cache/pip/wheels/c4/fb/19/388995b88cb551717a8dff40c889172cd12fadf994216a0a22\n",
            "Successfully built gym\n",
            "Installing collected packages: gym, neurogym\n",
            "  Attempting uninstall: gym\n",
            "    Found existing installation: gym 0.25.2\n",
            "    Uninstalling gym-0.25.2:\n",
            "      Successfully uninstalled gym-0.25.2\n",
            "  Running setup.py develop for neurogym\n",
            "Successfully installed gym-0.24.1 neurogym-0.0.2\n"
          ]
        }
      ]
    },
    {
      "cell_type": "code",
      "execution_count": 2,
      "metadata": {
        "colab": {
          "base_uri": "https://localhost:8080/"
        },
        "id": "D4RPIsY6LowX",
        "outputId": "4af3271c-45ca-4948-e4fa-5b9f64957e23"
      },
      "outputs": [
        {
          "output_type": "stream",
          "name": "stderr",
          "text": [
            "Warning: Gym version v0.24.1 has a number of critical issues with `gym.make` such that environment observation and action spaces are incorrectly evaluated, raising incorrect errors and warning . It is recommend to downgrading to v0.23.1 or upgrading to v0.25.1\n",
            "/usr/local/lib/python3.10/dist-packages/gym/envs/registration.py:396: UserWarning: \u001b[33mWARN: The `registry.all` method is deprecated. Please use `registry.values` instead.\u001b[0m\n",
            "  logger.warn(\n"
          ]
        }
      ],
      "source": [
        "import neurogym as ngym\n",
        "import numpy as np\n",
        "import pandas as pd\n",
        "import torch\n",
        "import torch.nn as nn\n",
        "import torch.optim as optim\n",
        "import time"
      ]
    },
    {
      "cell_type": "markdown",
      "source": [
        "### Define a simple LSTM model"
      ],
      "metadata": {
        "id": "5xqGhnoAk1Gs"
      }
    },
    {
      "cell_type": "code",
      "source": [
        "class Sparse_LSTM(nn.Module):\n",
        "    def __init__(self, input_size, hidden_size, num_layers, sparsity_masks):\n",
        "        super(Sparse_LSTM, self).__init__()\n",
        "        self.lstm = nn.LSTM(input_size, hidden_size, num_layers=num_layers)  # Standard LSTM with n layers\n",
        "        self.sparsity_masks = sparsity_masks  # Binary masks for sparsity\n",
        "\n",
        "    def forward(self, x): # Applying sparsity on each forward pass\n",
        "        with torch.no_grad():\n",
        "            for name, param in self.lstm.named_parameters():\n",
        "                if 'weight' in name:  # Only applying sparsity mask to weight matrices\n",
        "                    layer_idx = int(name.split('_l')[1].split('.')[0])  # Extract layer index from name\n",
        "                    if 'ih' in name:  # Input-to-hidden weights\n",
        "                        mask = self.sparsity_masks.get(f'weight_ih_l{layer_idx}')\n",
        "                        param.data *= mask\n",
        "                    elif 'hh' in name:  # Hidden-to-hidden weights\n",
        "                        mask = self.sparsity_masks.get(f'weight_hh_l{layer_idx}')\n",
        "                        param.data *= mask\n",
        "\n",
        "        output, (hn, cn) = self.lstm(x)\n",
        "        return output, (hn, cn)\n",
        "\n",
        "    def apply_sparsity_masks_after_optimizer(self):  # Applying sparsity masks after the optimizer step\n",
        "        with torch.no_grad():\n",
        "            for name, param in self.lstm.named_parameters():\n",
        "                if 'weight' in name:\n",
        "                    layer_idx = int(name.split('_l')[1].split('.')[0])  # Extract layer index from name\n",
        "                    if 'ih' in name:  # Input-to-hidden weights\n",
        "                        mask = self.sparsity_masks.get(f'weight_ih_l{layer_idx}')\n",
        "                        if mask is not None:\n",
        "                            param.data *= mask\n",
        "                    elif 'hh' in name:  # Hidden-to-hidden weights\n",
        "                        mask = self.sparsity_masks.get(f'weight_hh_l{layer_idx}')\n",
        "                        if mask is not None:\n",
        "                            param.data *= mask  # Apply sparsity in-place\n",
        "\n",
        "\n",
        "class LSTMNet(nn.Module): # Define the main model with the added linear layer\n",
        "    def __init__(self, input_size, hidden_size, output_size, num_lstm_layers=2, sparsity_masks=None):\n",
        "        super(LSTMNet, self).__init__()\n",
        "        self.lstm = Sparse_LSTM(input_size, hidden_size, num_layers=num_lstm_layers, sparsity_masks=sparsity_masks)  # Sparse LSTM layers\n",
        "        self.fc = nn.Linear(hidden_size, output_size)  # Fully connected layer\n",
        "\n",
        "    def forward(self, x):\n",
        "        lstm_output, _ = self.lstm(x)\n",
        "        out = self.fc(lstm_output)\n",
        "        return out, lstm_output\n"
      ],
      "metadata": {
        "colab": {
          "base_uri": "https://localhost:8080/"
        },
        "id": "TvUHo7Q4O0mZ",
        "outputId": "f54f1c44-e398-45c6-ce52-55445f7a4d4e"
      },
      "execution_count": 190,
      "outputs": [
        {
          "output_type": "stream",
          "name": "stderr",
          "text": [
            "/usr/local/lib/python3.10/dist-packages/ipykernel/ipkernel.py:283: DeprecationWarning: `should_run_async` will not call `transform_cell` automatically in the future. Please pass the result to `transformed_cell` argument and any exception that happen during thetransform in `preprocessing_exc_tuple` in IPython 7.17 and above.\n",
            "  and should_run_async(code)\n"
          ]
        }
      ]
    },
    {
      "cell_type": "markdown",
      "source": [
        "### Creating dataset and adjusting parameters"
      ],
      "metadata": {
        "id": "1xE2ARNnlcXG"
      }
    },
    {
      "cell_type": "code",
      "source": [
        "config = {\n",
        "    'dt': 200, # Timestep parameter\n",
        "    'hidden_size': 32, # Hidden size for your LSTM\n",
        "    'batch_size': 16, # Batch size for training\n",
        "    'seq_len': 100, # Sequence length for input data\n",
        "    'envid': 'ReadySetGo-v0', # Task name\n",
        "    'gain': 2, # Custom gain\n",
        "    'prod_margin': 10, # Custom production margin\n",
        "}\n",
        "\n",
        "env_kwargs = {\n",
        "    'dt': config['dt'], # Assing timestep parameter\n",
        "    'gain': config['gain'],  # Controls the measure that the agent has to produce\n",
        "    'prod_margin': config['prod_margin'], # Controls the interval around the ground truth production time within which the agent receives proportional reward\n",
        "}\n",
        "config['env_kwargs'] = env_kwargs\n",
        "\n",
        "dataset = ngym.Dataset(config['envid'], env_kwargs=config['env_kwargs'], batch_size=config['batch_size'], seq_len=config['seq_len']) # Generate dataset\n",
        "env = dataset.env\n",
        "\n",
        "inputs, target = dataset() # Assing inputs and targets\n",
        "inputs = torch.from_numpy(inputs).type(torch.float)\n",
        "\n",
        "input_size = env.observation_space.shape[0] # Find dimensions for data\n",
        "output_size = env.action_space.n\n",
        "\n",
        "print('Input has shape (SeqLen, Batch, Dim) =', inputs.shape)\n",
        "print('Target has shape (SeqLen, Batch) =', target.shape)"
      ],
      "metadata": {
        "colab": {
          "base_uri": "https://localhost:8080/"
        },
        "id": "kEqrXBuGlbO6",
        "outputId": "708664e1-a9e0-4950-f3d2-dc5afe10c549"
      },
      "execution_count": 74,
      "outputs": [
        {
          "output_type": "stream",
          "name": "stdout",
          "text": [
            "Input has shape (SeqLen, Batch, Dim) = torch.Size([100, 16, 3])\n",
            "Target has shape (SeqLen, Batch) = (100, 16)\n"
          ]
        },
        {
          "output_type": "stream",
          "name": "stderr",
          "text": [
            "/usr/local/lib/python3.10/dist-packages/ipykernel/ipkernel.py:283: DeprecationWarning: `should_run_async` will not call `transform_cell` automatically in the future. Please pass the result to `transformed_cell` argument and any exception that happen during thetransform in `preprocessing_exc_tuple` in IPython 7.17 and above.\n",
            "  and should_run_async(code)\n",
            "/usr/local/lib/python3.10/dist-packages/gym/utils/passive_env_checker.py:69: UserWarning: \u001b[33mWARN: Agent's minimum action space value is -infinity. This is probably too low.\u001b[0m\n",
            "  logger.warn(\n",
            "/usr/local/lib/python3.10/dist-packages/gym/utils/passive_env_checker.py:73: UserWarning: \u001b[33mWARN: Agent's maximum action space value is infinity. This is probably too high\u001b[0m\n",
            "  logger.warn(\n",
            "/usr/local/lib/python3.10/dist-packages/gym/utils/passive_env_checker.py:97: UserWarning: \u001b[33mWARN: We recommend you to use a symmetric and normalized Box action space (range=[-1, 1]) https://stable-baselines3.readthedocs.io/en/master/guide/rl_tips.html\u001b[0m\n",
            "  logger.warn(\n"
          ]
        }
      ]
    },
    {
      "cell_type": "markdown",
      "source": [
        "### Generate sparisty matricies"
      ],
      "metadata": {
        "id": "JPKJRAFKWiTy"
      }
    },
    {
      "cell_type": "code",
      "source": [
        "def generate_sparsity_masks(input_size, hidden_size, num_layers, sparsity):\n",
        "    sparsity_masks = {}\n",
        "    for layer in range(num_layers):\n",
        "        ih_shape = (4 * hidden_size, input_size if layer == 0 else hidden_size)  # Input-to-hidden mask\n",
        "        hh_shape = (4 * hidden_size, hidden_size)  # Hidden-to-hidden mask\n",
        "        sparsity_masks[f'weight_ih_l{layer}'] = (torch.rand(ih_shape) > sparsity).float()\n",
        "        sparsity_masks[f'weight_hh_l{layer}'] = (torch.rand(hh_shape) > sparsity).float()\n",
        "\n",
        "    return sparsity_masks"
      ],
      "metadata": {
        "colab": {
          "base_uri": "https://localhost:8080/"
        },
        "id": "39Hc-41jWmeF",
        "outputId": "480c4cd4-5f2d-439d-f358-06c7787a502d"
      },
      "execution_count": 201,
      "outputs": [
        {
          "output_type": "stream",
          "name": "stderr",
          "text": [
            "/usr/local/lib/python3.10/dist-packages/ipykernel/ipkernel.py:283: DeprecationWarning: `should_run_async` will not call `transform_cell` automatically in the future. Please pass the result to `transformed_cell` argument and any exception that happen during thetransform in `preprocessing_exc_tuple` in IPython 7.17 and above.\n",
            "  and should_run_async(code)\n"
          ]
        }
      ]
    },
    {
      "cell_type": "markdown",
      "source": [
        "### Training the model"
      ],
      "metadata": {
        "id": "77PBTEEOlxQB"
      }
    },
    {
      "cell_type": "code",
      "source": [
        "iter_steps = 1000 # Training loops\n",
        "report_freq = 100 # How often a report on is returned\n",
        "num_lstm_layers = 2 # Number of LSTM layers\n",
        "sparsity = 0.2 # Proportion of 0s in binary masks\n",
        "\n",
        "binary_masks = generate_sparsity_masks(input_size, config['hidden_size'], num_lstm_layers, sparsity)\n",
        "\n",
        "net = LSTMNet(input_size, config['hidden_size'], output_size, num_lstm_layers , binary_masks) # Create an instance of the sparse LSTM\n",
        "\n",
        "def train_model(net, dataset, iter_steps, report_freq):\n",
        "\n",
        "    optimizer = optim.AdamW(net.parameters(), lr=0.01) # AdamW optimiser\n",
        "    criterion = nn.CrossEntropyLoss() # Loss funciton\n",
        "\n",
        "    running_loss = 0\n",
        "    running_acc = 0\n",
        "    start_time = time.time() # Start training timer\n",
        "\n",
        "    for i in range(iter_steps): # Loop over training batches\n",
        "        inputs, labels = dataset() # Generate a set of data\n",
        "        inputs = torch.from_numpy(inputs).type(torch.float)\n",
        "        labels = torch.from_numpy(labels.flatten()).type(torch.long)\n",
        "\n",
        "        optimizer.zero_grad() # Reset gradients\n",
        "        output, _ = net(inputs)\n",
        "        output = output.view(-1, output_size)\n",
        "\n",
        "        loss = criterion(output, labels) # Loss function\n",
        "        loss.backward()\n",
        "        optimizer.step()  # Update\n",
        "\n",
        "        net.lstm.apply_sparsity_masks_after_optimizer() # Apply sparsity masks after the optimizer step\n",
        "\n",
        "        batch_acc = (torch.argmax(output, dim=1) == labels).sum().item() / labels.shape[0] # Current batch accuracy\n",
        "        running_loss += loss.item()\n",
        "        running_acc += batch_acc\n",
        "\n",
        "        if i % report_freq == report_freq - 1:\n",
        "            running_loss /= report_freq\n",
        "            running_acc /= report_freq  # average accuracy over the last 100 batches\n",
        "            print('Step {}, Loss {:0.4f}, Accuracy {:0.4f}, Time {:0.1f}s'.format(\n",
        "                i+1, running_loss, running_acc, time.time() - start_time))\n",
        "            running_loss = 0 # Reset metrics for next report\n",
        "            running_acc = 0\n",
        "    return net\n",
        "\n",
        "\n",
        "net = train_model(net, dataset, iter_steps, report_freq) # Call the training function"
      ],
      "metadata": {
        "colab": {
          "base_uri": "https://localhost:8080/"
        },
        "id": "milzVKfVSmQT",
        "outputId": "71a5db00-20be-445c-c449-b49135dcc9c8"
      },
      "execution_count": 216,
      "outputs": [
        {
          "output_type": "stream",
          "name": "stderr",
          "text": [
            "/usr/local/lib/python3.10/dist-packages/ipykernel/ipkernel.py:283: DeprecationWarning: `should_run_async` will not call `transform_cell` automatically in the future. Please pass the result to `transformed_cell` argument and any exception that happen during thetransform in `preprocessing_exc_tuple` in IPython 7.17 and above.\n",
            "  and should_run_async(code)\n"
          ]
        },
        {
          "output_type": "stream",
          "name": "stdout",
          "text": [
            "Step 100, Loss 0.1769, Accuracy 0.9530, Time 2.2s\n",
            "Step 200, Loss 0.1013, Accuracy 0.9618, Time 4.9s\n",
            "Step 300, Loss 0.0519, Accuracy 0.9823, Time 6.9s\n",
            "Step 400, Loss 0.0203, Accuracy 0.9950, Time 9.1s\n",
            "Step 500, Loss 0.0195, Accuracy 0.9948, Time 11.8s\n",
            "Step 600, Loss 0.0180, Accuracy 0.9950, Time 14.2s\n",
            "Step 700, Loss 0.0182, Accuracy 0.9950, Time 16.4s\n",
            "Step 800, Loss 0.0183, Accuracy 0.9948, Time 18.5s\n",
            "Step 900, Loss 0.1449, Accuracy 0.9632, Time 20.5s\n",
            "Step 1000, Loss 0.1260, Accuracy 0.9622, Time 22.8s\n"
          ]
        }
      ]
    },
    {
      "cell_type": "markdown",
      "source": [
        "### Function to check the sparsity of each layer"
      ],
      "metadata": {
        "id": "1xDL2xXNwy3d"
      }
    },
    {
      "cell_type": "code",
      "source": [
        "def check_sparsity_of_weights(net):\n",
        "    with torch.no_grad():  # Ensure no gradients are computed during the check\n",
        "        for name, param in net.lstm.named_parameters():\n",
        "            if 'weight' in name:\n",
        "                zeros = torch.sum(param == 0).item()\n",
        "                total = param.numel()\n",
        "                sparsity = zeros / total\n",
        "                print(f\"Sparsity of {name}: {zeros} zeros out of {total} total weights. Sparsity: {sparsity:.2f}\")\n",
        "\n",
        "check_sparsity_of_weights(net)"
      ],
      "metadata": {
        "colab": {
          "base_uri": "https://localhost:8080/"
        },
        "id": "w8xBrpUgd898",
        "outputId": "e83ac663-3e82-4965-f7c9-5b512397c823"
      },
      "execution_count": 218,
      "outputs": [
        {
          "output_type": "stream",
          "name": "stdout",
          "text": [
            "Sparsity of lstm.weight_ih_l0: 99 zeros out of 384 total weights. Sparsity: 0.26\n",
            "Sparsity of lstm.weight_hh_l0: 827 zeros out of 4096 total weights. Sparsity: 0.20\n",
            "Sparsity of lstm.weight_ih_l1: 824 zeros out of 4096 total weights. Sparsity: 0.20\n",
            "Sparsity of lstm.weight_hh_l1: 831 zeros out of 4096 total weights. Sparsity: 0.20\n"
          ]
        },
        {
          "output_type": "stream",
          "name": "stderr",
          "text": [
            "/usr/local/lib/python3.10/dist-packages/ipykernel/ipkernel.py:283: DeprecationWarning: `should_run_async` will not call `transform_cell` automatically in the future. Please pass the result to `transformed_cell` argument and any exception that happen during thetransform in `preprocessing_exc_tuple` in IPython 7.17 and above.\n",
            "  and should_run_async(code)\n"
          ]
        }
      ]
    },
    {
      "cell_type": "code",
      "source": [
        "print(net.lstm.lstm.weight_ih_l0)"
      ],
      "metadata": {
        "id": "1-h5Lsbn0hFP",
        "outputId": "5da5e950-e383-42c3-f186-b1c13bad5524",
        "colab": {
          "base_uri": "https://localhost:8080/"
        }
      },
      "execution_count": 219,
      "outputs": [
        {
          "output_type": "stream",
          "name": "stdout",
          "text": [
            "Parameter containing:\n",
            "tensor([[-4.0216e-01, -1.2231e-01,  0.0000e+00],\n",
            "        [-5.5144e-01,  0.0000e+00, -1.8605e-02],\n",
            "        [-0.0000e+00,  4.4792e-02,  6.9101e-02],\n",
            "        [ 3.1412e-01, -1.1197e-01, -8.5906e-02],\n",
            "        [ 0.0000e+00,  1.2289e-01, -0.0000e+00],\n",
            "        [ 4.8114e-01,  0.0000e+00,  3.5270e-02],\n",
            "        [ 9.5058e-01,  1.0434e-02, -0.0000e+00],\n",
            "        [-0.0000e+00, -0.0000e+00, -8.5425e-02],\n",
            "        [-0.0000e+00,  8.1435e-02, -1.5292e-01],\n",
            "        [ 0.0000e+00, -1.4832e-01,  0.0000e+00],\n",
            "        [-7.9799e-01,  2.5605e-02, -1.3512e-01],\n",
            "        [-0.0000e+00,  2.9980e-02, -0.0000e+00],\n",
            "        [ 0.0000e+00, -3.5757e-02,  1.4090e-01],\n",
            "        [ 8.1041e-01,  1.0956e-01, -1.4162e-01],\n",
            "        [ 2.5446e-01, -3.8867e-02,  1.1373e-01],\n",
            "        [ 3.4059e-01,  0.0000e+00, -0.0000e+00],\n",
            "        [ 2.7353e-01,  5.5574e-02, -8.5312e-02],\n",
            "        [ 1.8241e-01, -0.0000e+00, -1.1941e-01],\n",
            "        [-0.0000e+00, -4.4653e-02,  1.3099e-01],\n",
            "        [-0.0000e+00, -0.0000e+00, -0.0000e+00],\n",
            "        [ 5.0363e-02,  9.8955e-02,  1.5224e-01],\n",
            "        [ 2.7319e-01,  0.0000e+00,  1.5971e-01],\n",
            "        [ 3.8556e-02, -7.8760e-02, -4.0054e-02],\n",
            "        [ 1.5305e-01,  8.9191e-02, -1.0239e-02],\n",
            "        [ 3.7654e-01,  4.9278e-02, -2.3927e-02],\n",
            "        [-2.3985e-01, -7.1754e-02,  9.2169e-02],\n",
            "        [ 8.5756e-01, -0.0000e+00,  2.1010e-02],\n",
            "        [-1.6485e+00,  0.0000e+00,  0.0000e+00],\n",
            "        [ 0.0000e+00,  1.3081e-01, -0.0000e+00],\n",
            "        [-0.0000e+00, -1.3390e-01, -8.3757e-02],\n",
            "        [ 7.4392e-01,  7.2142e-04,  0.0000e+00],\n",
            "        [ 2.3615e-01, -0.0000e+00, -0.0000e+00],\n",
            "        [-7.8473e-01,  6.4204e-02,  9.2386e-02],\n",
            "        [ 0.0000e+00, -0.0000e+00, -2.9566e-02],\n",
            "        [-0.0000e+00,  8.1722e-02, -0.0000e+00],\n",
            "        [ 2.3873e-01,  1.0966e-01,  1.1340e-01],\n",
            "        [ 3.1879e-02,  6.8202e-02, -7.2879e-02],\n",
            "        [ 2.8796e-02, -0.0000e+00,  1.0401e-01],\n",
            "        [ 7.6182e-01, -1.0476e-01, -5.9858e-02],\n",
            "        [ 1.3390e-01, -1.4322e-01,  1.7266e-02],\n",
            "        [ 3.4557e-01,  7.6442e-02, -1.4172e-01],\n",
            "        [-0.0000e+00, -1.4872e-01,  0.0000e+00],\n",
            "        [ 0.0000e+00, -4.8738e-02,  1.1752e-01],\n",
            "        [-0.0000e+00, -1.0307e-01,  8.7198e-02],\n",
            "        [ 6.5592e-01, -1.1160e-01, -1.5557e-01],\n",
            "        [-4.6472e-02, -1.4501e-01,  0.0000e+00],\n",
            "        [-1.2415e-01,  0.0000e+00, -2.5578e-03],\n",
            "        [ 0.0000e+00,  1.9207e-03,  0.0000e+00],\n",
            "        [ 3.7712e-02,  0.0000e+00,  0.0000e+00],\n",
            "        [ 7.7626e-04, -7.8556e-02,  0.0000e+00],\n",
            "        [ 4.9891e-01,  7.4262e-02,  0.0000e+00],\n",
            "        [-5.9207e-01,  9.8031e-02, -8.3111e-02],\n",
            "        [-0.0000e+00, -5.5238e-03,  1.0793e-01],\n",
            "        [ 2.6876e-01, -3.3606e-02,  3.1822e-02],\n",
            "        [ 1.2643e-01,  3.3893e-02, -3.7327e-02],\n",
            "        [ 0.0000e+00, -1.2895e-02,  1.0996e-03],\n",
            "        [ 3.1400e-01,  1.0425e-01,  0.0000e+00],\n",
            "        [-4.6546e-01, -1.3177e-01,  6.1927e-02],\n",
            "        [ 1.1444e+00,  1.2526e-02,  1.4406e-01],\n",
            "        [-1.3578e+00, -2.3267e-02, -1.2443e-01],\n",
            "        [ 1.5939e-01, -1.0150e-01, -1.5206e-01],\n",
            "        [ 0.0000e+00,  1.5155e-01,  0.0000e+00],\n",
            "        [-0.0000e+00,  8.7107e-02, -0.0000e+00],\n",
            "        [ 1.4431e-01, -1.3492e-01,  5.1644e-02],\n",
            "        [-0.0000e+00, -1.0229e-01,  0.0000e+00],\n",
            "        [ 9.8588e-02, -1.1911e-01,  9.5191e-02],\n",
            "        [-0.0000e+00, -1.2114e-01,  2.6536e-02],\n",
            "        [ 0.0000e+00, -2.0584e-02,  7.0736e-02],\n",
            "        [-4.8742e-03,  0.0000e+00,  6.6915e-02],\n",
            "        [-7.2760e-01,  0.0000e+00,  7.5547e-02],\n",
            "        [ 1.2443e-01, -8.1879e-02, -1.5732e-01],\n",
            "        [ 3.2198e-02, -0.0000e+00,  1.1336e-01],\n",
            "        [-1.8578e-01, -3.6505e-02, -5.6820e-03],\n",
            "        [-2.0913e-01,  8.6916e-02,  7.3928e-02],\n",
            "        [ 1.1457e-01, -1.2197e-01, -1.2503e-01],\n",
            "        [ 4.1363e-02,  0.0000e+00,  0.0000e+00],\n",
            "        [ 3.3951e-01, -5.7166e-02,  1.0695e-01],\n",
            "        [ 2.1656e-01,  7.9650e-02, -8.3268e-02],\n",
            "        [-9.0903e-01,  1.7830e-02,  3.5633e-02],\n",
            "        [ 1.5151e-01, -1.1115e-01,  2.9423e-02],\n",
            "        [-2.8219e-02, -1.0172e-01,  1.4730e-02],\n",
            "        [ 0.0000e+00,  2.4662e-02,  9.4723e-02],\n",
            "        [ 0.0000e+00, -1.1462e-01,  1.3749e-01],\n",
            "        [ 9.6071e-01,  4.3201e-02, -2.3084e-03],\n",
            "        [-1.8948e-02, -1.5332e-01, -2.3651e-02],\n",
            "        [-2.1170e-01, -1.0452e-01, -0.0000e+00],\n",
            "        [-1.7475e-02,  0.0000e+00, -8.9064e-02],\n",
            "        [-1.2066e-01, -7.0674e-02,  0.0000e+00],\n",
            "        [ 1.7957e-01, -5.5012e-02, -0.0000e+00],\n",
            "        [ 1.2426e-01, -0.0000e+00,  1.4359e-01],\n",
            "        [-0.0000e+00, -4.7183e-02, -1.2406e-01],\n",
            "        [-0.0000e+00,  1.8092e-02,  1.0699e-01],\n",
            "        [ 1.8009e-01,  8.7002e-02, -5.1671e-02],\n",
            "        [-0.0000e+00, -8.6231e-02,  1.5942e-01],\n",
            "        [-2.1834e-01,  1.3531e-01,  0.0000e+00],\n",
            "        [ 2.4318e-01,  1.1951e-01,  6.3985e-02],\n",
            "        [-1.1620e+00,  1.3664e-01, -1.4191e-01],\n",
            "        [-8.0888e-01, -9.5825e-02,  1.3216e-01],\n",
            "        [ 5.9102e-01, -7.0155e-02, -6.9798e-02],\n",
            "        [-0.0000e+00, -1.0909e-01, -1.0950e-01],\n",
            "        [-2.8007e-02,  1.5498e-01,  7.7907e-02],\n",
            "        [ 0.0000e+00,  8.0746e-02, -0.0000e+00],\n",
            "        [ 9.7644e-02, -0.0000e+00,  7.8559e-02],\n",
            "        [-0.0000e+00, -9.9740e-02, -1.3031e-02],\n",
            "        [ 2.6095e-01,  8.2094e-02,  0.0000e+00],\n",
            "        [-1.1562e-01,  5.1469e-02,  1.4320e-01],\n",
            "        [-1.2777e+00, -7.6579e-03, -7.1563e-02],\n",
            "        [ 6.9683e-02,  0.0000e+00, -5.2983e-02],\n",
            "        [ 0.0000e+00, -5.8604e-02, -1.2680e-01],\n",
            "        [-0.0000e+00,  0.0000e+00, -8.1226e-02],\n",
            "        [-4.2486e-01, -0.0000e+00, -7.9689e-02],\n",
            "        [-2.4183e-01,  0.0000e+00, -0.0000e+00],\n",
            "        [ 2.0666e-01, -1.0568e-01,  1.1535e-02],\n",
            "        [ 4.8677e-01, -1.1356e-01,  0.0000e+00],\n",
            "        [ 1.4325e+00, -0.0000e+00,  0.0000e+00],\n",
            "        [ 7.7411e-02, -1.2317e-02,  1.2372e-02],\n",
            "        [-9.5977e-02, -9.1877e-02,  3.1875e-02],\n",
            "        [-1.1686e-02, -3.2278e-02,  1.1963e-01],\n",
            "        [-0.0000e+00,  9.1738e-02,  3.9060e-02],\n",
            "        [ 6.4965e-02,  3.0353e-02, -4.8690e-03],\n",
            "        [ 3.8110e-01, -0.0000e+00, -5.5641e-03],\n",
            "        [-5.3785e-01,  0.0000e+00, -1.1651e-01],\n",
            "        [ 7.5289e-01,  7.9559e-02, -6.7844e-02],\n",
            "        [ 0.0000e+00, -2.3009e-02, -2.8915e-03],\n",
            "        [ 9.2489e-01,  6.5411e-02, -0.0000e+00],\n",
            "        [ 3.2839e-01, -8.0373e-02, -0.0000e+00],\n",
            "        [ 7.7550e-01, -3.1954e-03, -1.4923e-01],\n",
            "        [ 9.5196e-02, -1.2150e-01,  0.0000e+00]], requires_grad=True)\n"
          ]
        },
        {
          "output_type": "stream",
          "name": "stderr",
          "text": [
            "/usr/local/lib/python3.10/dist-packages/ipykernel/ipkernel.py:283: DeprecationWarning: `should_run_async` will not call `transform_cell` automatically in the future. Please pass the result to `transformed_cell` argument and any exception that happen during thetransform in `preprocessing_exc_tuple` in IPython 7.17 and above.\n",
            "  and should_run_async(code)\n"
          ]
        }
      ]
    },
    {
      "cell_type": "code",
      "source": [
        "env = dataset.env # Reset environment\n",
        "env.reset(no_step=True)\n",
        "\n",
        "perf = 0 # Initialize loggin vars\n",
        "activity_dict = {}\n",
        "trial_infos = {}\n",
        "\n",
        "num_trial = 200\n",
        "for i in range(num_trial):\n",
        "\n",
        "    trial_info = env.new_trial() # New trial\n",
        "    ob, gt = env.ob, env.gt # Observation and groud-truth of this trial\n",
        "    inputs = torch.from_numpy(ob[:, np.newaxis, :]).type(torch.float)\n",
        "\n",
        "    action_pred, rnn_activity = net(inputs) # Run network for one trial\n",
        "\n",
        "    action_pred = action_pred.detach().numpy()[:, 0, :] # Compute performance\n",
        "    choice = np.argmax(action_pred[-1, :]) # Final choice at final time step\n",
        "    correct = choice == gt[-1]\n",
        "\n",
        "    rnn_activity = rnn_activity[:, 0, :].detach().numpy() # Record activity\n",
        "    activity_dict[i] = rnn_activity\n",
        "    trial_infos[i] = trial_info  # Record trial infos\n",
        "    trial_infos[i].update({'correct': correct})\n",
        "\n",
        "for i in range(20):\n",
        "    print('Trial ', i, trial_infos[i])\n",
        "\n",
        "print('Average performance', np.mean([val['correct'] for val in trial_infos.values()]))"
      ],
      "metadata": {
        "colab": {
          "base_uri": "https://localhost:8080/"
        },
        "id": "FWqjVx08i1Tj",
        "outputId": "0ce66eb4-65eb-4c2c-9bbc-29c3fde2ee2e"
      },
      "execution_count": 205,
      "outputs": [
        {
          "output_type": "stream",
          "name": "stdout",
          "text": [
            "Trial  0 {'measure': 800.0, 'gain': 2, 'production': 1600.0, 'correct': True}\n",
            "Trial  1 {'measure': 1400.0, 'gain': 2, 'production': 2800.0, 'correct': True}\n",
            "Trial  2 {'measure': 1400.0, 'gain': 2, 'production': 2800.0, 'correct': True}\n",
            "Trial  3 {'measure': 800.0, 'gain': 2, 'production': 1600.0, 'correct': True}\n",
            "Trial  4 {'measure': 800.0, 'gain': 2, 'production': 1600.0, 'correct': True}\n",
            "Trial  5 {'measure': 800.0, 'gain': 2, 'production': 1600.0, 'correct': True}\n",
            "Trial  6 {'measure': 800.0, 'gain': 2, 'production': 1600.0, 'correct': True}\n",
            "Trial  7 {'measure': 1000.0, 'gain': 2, 'production': 2000.0, 'correct': True}\n",
            "Trial  8 {'measure': 1200.0, 'gain': 2, 'production': 2400.0, 'correct': True}\n",
            "Trial  9 {'measure': 800.0, 'gain': 2, 'production': 1600.0, 'correct': True}\n",
            "Trial  10 {'measure': 1000.0, 'gain': 2, 'production': 2000.0, 'correct': True}\n",
            "Trial  11 {'measure': 800.0, 'gain': 2, 'production': 1600.0, 'correct': True}\n",
            "Trial  12 {'measure': 800.0, 'gain': 2, 'production': 1600.0, 'correct': True}\n",
            "Trial  13 {'measure': 800.0, 'gain': 2, 'production': 1600.0, 'correct': True}\n",
            "Trial  14 {'measure': 1400.0, 'gain': 2, 'production': 2800.0, 'correct': True}\n",
            "Trial  15 {'measure': 1200.0, 'gain': 2, 'production': 2400.0, 'correct': True}\n",
            "Trial  16 {'measure': 1200.0, 'gain': 2, 'production': 2400.0, 'correct': True}\n",
            "Trial  17 {'measure': 800.0, 'gain': 2, 'production': 1600.0, 'correct': True}\n",
            "Trial  18 {'measure': 1000.0, 'gain': 2, 'production': 2000.0, 'correct': True}\n",
            "Trial  19 {'measure': 1200.0, 'gain': 2, 'production': 2400.0, 'correct': True}\n",
            "Average performance 1.0\n"
          ]
        },
        {
          "output_type": "stream",
          "name": "stderr",
          "text": [
            "/usr/local/lib/python3.10/dist-packages/ipykernel/ipkernel.py:283: DeprecationWarning: `should_run_async` will not call `transform_cell` automatically in the future. Please pass the result to `transformed_cell` argument and any exception that happen during thetransform in `preprocessing_exc_tuple` in IPython 7.17 and above.\n",
            "  and should_run_async(code)\n"
          ]
        }
      ]
    }
  ]
}