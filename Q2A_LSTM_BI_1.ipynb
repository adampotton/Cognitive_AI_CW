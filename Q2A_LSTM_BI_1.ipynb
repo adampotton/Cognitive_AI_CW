{
  "nbformat": 4,
  "nbformat_minor": 0,
  "metadata": {
    "colab": {
      "provenance": [],
      "authorship_tag": "ABX9TyNXuOeNFrIMJ5tSKnnUOd3R",
      "include_colab_link": true
    },
    "kernelspec": {
      "name": "python3",
      "display_name": "Python 3"
    },
    "language_info": {
      "name": "python"
    }
  },
  "cells": [
    {
      "cell_type": "markdown",
      "metadata": {
        "id": "view-in-github",
        "colab_type": "text"
      },
      "source": [
        "<a href=\"https://colab.research.google.com/github/adampotton/Cognitive_AI_CW/blob/main/Q2A_LSTM_BI_1.ipynb\" target=\"_parent\"><img src=\"https://colab.research.google.com/assets/colab-badge.svg\" alt=\"Open In Colab\"/></a>"
      ]
    },
    {
      "cell_type": "markdown",
      "source": [
        "## Adpating the LSTM model cost function to tackle sparsity"
      ],
      "metadata": {
        "id": "sXVSJrSC5bzt"
      }
    },
    {
      "cell_type": "markdown",
      "source": [
        "### Install NeuroGym"
      ],
      "metadata": {
        "id": "glrkFTCQaYwy"
      }
    },
    {
      "cell_type": "code",
      "source": [
        "! git clone https://github.com/neurogym/neurogym.git\n",
        "%cd neurogym/\n",
        "! pip install -e ."
      ],
      "metadata": {
        "colab": {
          "base_uri": "https://localhost:8080/"
        },
        "collapsed": true,
        "id": "3gn4uXo2PPtk",
        "outputId": "aa645983-79ff-4a6c-fa88-14906ea772d3"
      },
      "execution_count": 1,
      "outputs": [
        {
          "output_type": "stream",
          "name": "stdout",
          "text": [
            "Cloning into 'neurogym'...\n",
            "remote: Enumerating objects: 11100, done.\u001b[K\n",
            "remote: Counting objects: 100% (1001/1001), done.\u001b[K\n",
            "remote: Compressing objects: 100% (103/103), done.\u001b[K\n",
            "remote: Total 11100 (delta 928), reused 898 (delta 898), pack-reused 10099 (from 1)\u001b[K\n",
            "Receiving objects: 100% (11100/11100), 8.17 MiB | 10.29 MiB/s, done.\n",
            "Resolving deltas: 100% (8335/8335), done.\n",
            "/content/neurogym\n",
            "Obtaining file:///content/neurogym\n",
            "  Preparing metadata (setup.py) ... \u001b[?25l\u001b[?25hdone\n",
            "Requirement already satisfied: numpy in /usr/local/lib/python3.10/dist-packages (from neurogym==0.0.2) (1.26.4)\n",
            "Collecting gym<0.25,>=0.20.0 (from neurogym==0.0.2)\n",
            "  Downloading gym-0.24.1.tar.gz (696 kB)\n",
            "\u001b[2K     \u001b[90m━━━━━━━━━━━━━━━━━━━━━━━━━━━━━━━━━━━━━━━━\u001b[0m \u001b[32m696.4/696.4 kB\u001b[0m \u001b[31m5.5 MB/s\u001b[0m eta \u001b[36m0:00:00\u001b[0m\n",
            "\u001b[?25h  Installing build dependencies ... \u001b[?25l\u001b[?25hdone\n",
            "  Getting requirements to build wheel ... \u001b[?25l\u001b[?25hdone\n",
            "  Preparing metadata (pyproject.toml) ... \u001b[?25l\u001b[?25hdone\n",
            "Requirement already satisfied: matplotlib in /usr/local/lib/python3.10/dist-packages (from neurogym==0.0.2) (3.8.0)\n",
            "Requirement already satisfied: cloudpickle>=1.2.0 in /usr/local/lib/python3.10/dist-packages (from gym<0.25,>=0.20.0->neurogym==0.0.2) (3.1.0)\n",
            "Requirement already satisfied: gym-notices>=0.0.4 in /usr/local/lib/python3.10/dist-packages (from gym<0.25,>=0.20.0->neurogym==0.0.2) (0.0.8)\n",
            "Requirement already satisfied: contourpy>=1.0.1 in /usr/local/lib/python3.10/dist-packages (from matplotlib->neurogym==0.0.2) (1.3.1)\n",
            "Requirement already satisfied: cycler>=0.10 in /usr/local/lib/python3.10/dist-packages (from matplotlib->neurogym==0.0.2) (0.12.1)\n",
            "Requirement already satisfied: fonttools>=4.22.0 in /usr/local/lib/python3.10/dist-packages (from matplotlib->neurogym==0.0.2) (4.54.1)\n",
            "Requirement already satisfied: kiwisolver>=1.0.1 in /usr/local/lib/python3.10/dist-packages (from matplotlib->neurogym==0.0.2) (1.4.7)\n",
            "Requirement already satisfied: packaging>=20.0 in /usr/local/lib/python3.10/dist-packages (from matplotlib->neurogym==0.0.2) (24.2)\n",
            "Requirement already satisfied: pillow>=6.2.0 in /usr/local/lib/python3.10/dist-packages (from matplotlib->neurogym==0.0.2) (11.0.0)\n",
            "Requirement already satisfied: pyparsing>=2.3.1 in /usr/local/lib/python3.10/dist-packages (from matplotlib->neurogym==0.0.2) (3.2.0)\n",
            "Requirement already satisfied: python-dateutil>=2.7 in /usr/local/lib/python3.10/dist-packages (from matplotlib->neurogym==0.0.2) (2.8.2)\n",
            "Requirement already satisfied: six>=1.5 in /usr/local/lib/python3.10/dist-packages (from python-dateutil>=2.7->matplotlib->neurogym==0.0.2) (1.16.0)\n",
            "Building wheels for collected packages: gym\n",
            "  Building wheel for gym (pyproject.toml) ... \u001b[?25l\u001b[?25hdone\n",
            "  Created wheel for gym: filename=gym-0.24.1-py3-none-any.whl size=793125 sha256=c913c817ab03fac97a4369ee7056319523dbe873c62343b5f15e246fad701306\n",
            "  Stored in directory: /root/.cache/pip/wheels/c4/fb/19/388995b88cb551717a8dff40c889172cd12fadf994216a0a22\n",
            "Successfully built gym\n",
            "Installing collected packages: gym, neurogym\n",
            "  Attempting uninstall: gym\n",
            "    Found existing installation: gym 0.25.2\n",
            "    Uninstalling gym-0.25.2:\n",
            "      Successfully uninstalled gym-0.25.2\n",
            "  Running setup.py develop for neurogym\n",
            "Successfully installed gym-0.24.1 neurogym-0.0.2\n"
          ]
        }
      ]
    },
    {
      "cell_type": "markdown",
      "source": [
        "### Imports"
      ],
      "metadata": {
        "id": "neElX3KxabjX"
      }
    },
    {
      "cell_type": "code",
      "execution_count": 2,
      "metadata": {
        "colab": {
          "base_uri": "https://localhost:8080/"
        },
        "id": "D4RPIsY6LowX",
        "outputId": "130e61d2-e198-40c7-81ab-8cf87c46c2bf"
      },
      "outputs": [
        {
          "output_type": "stream",
          "name": "stderr",
          "text": [
            "Warning: Gym version v0.24.1 has a number of critical issues with `gym.make` such that environment observation and action spaces are incorrectly evaluated, raising incorrect errors and warning . It is recommend to downgrading to v0.23.1 or upgrading to v0.25.1\n",
            "/usr/local/lib/python3.10/dist-packages/gym/envs/registration.py:396: UserWarning: \u001b[33mWARN: The `registry.all` method is deprecated. Please use `registry.values` instead.\u001b[0m\n",
            "  logger.warn(\n"
          ]
        }
      ],
      "source": [
        "import neurogym as ngym\n",
        "import numpy as np\n",
        "import pandas as pd\n",
        "import torch\n",
        "import torch.nn as nn\n",
        "import torch.optim as optim\n",
        "import time"
      ]
    },
    {
      "cell_type": "markdown",
      "source": [
        "### Define a simple LSTM model"
      ],
      "metadata": {
        "id": "5xqGhnoAk1Gs"
      }
    },
    {
      "cell_type": "code",
      "source": [
        "class LSTMNet(nn.Module):\n",
        "    def __init__(self, input_size, hidden_size, output_size, num_lstm_layers = 2):\n",
        "        super(LSTMNet, self).__init__()\n",
        "        self.lstm = nn.LSTM(input_size, hidden_size, num_layers=num_lstm_layers) # n LSTM layers\n",
        "        self.fc = nn.Linear(hidden_size, output_size) # Fully connected layer\n",
        "\n",
        "    def forward(self, x):\n",
        "        lstm_output, _ = self.lstm(x)\n",
        "        out = self.fc(lstm_output)\n",
        "        return out, lstm_output"
      ],
      "metadata": {
        "colab": {
          "base_uri": "https://localhost:8080/"
        },
        "id": "TvUHo7Q4O0mZ",
        "outputId": "13cea56a-c3b7-42c6-90de-3f99a5073d30"
      },
      "execution_count": 3,
      "outputs": [
        {
          "output_type": "stream",
          "name": "stderr",
          "text": [
            "/usr/local/lib/python3.10/dist-packages/ipykernel/ipkernel.py:283: DeprecationWarning: `should_run_async` will not call `transform_cell` automatically in the future. Please pass the result to `transformed_cell` argument and any exception that happen during thetransform in `preprocessing_exc_tuple` in IPython 7.17 and above.\n",
            "  and should_run_async(code)\n"
          ]
        }
      ]
    },
    {
      "cell_type": "markdown",
      "source": [
        "### Creating dataset and adjusting parameters"
      ],
      "metadata": {
        "id": "1xE2ARNnlcXG"
      }
    },
    {
      "cell_type": "code",
      "source": [
        "config = {\n",
        "    'dt': 200, # Timestep parameter\n",
        "    'hidden_size': 32, # Hidden size for your LSTM\n",
        "    'batch_size': 32, # Batch size for training\n",
        "    'seq_len': 50, # Sequence length for input data\n",
        "    'envid': 'ReadySetGo-v0', # Task name\n",
        "    'gain': 2, # Custom gain\n",
        "    'prod_margin': 10, # Custom production margin\n",
        "}\n",
        "\n",
        "env_kwargs = {\n",
        "    'dt': config['dt'], # Assing timestep parameter\n",
        "    'gain': config['gain'],  # Controls the measure that the agent has to produce\n",
        "    'prod_margin': config['prod_margin'], # Controls the interval around the ground truth production time within which the agent receives proportional reward\n",
        "}\n",
        "config['env_kwargs'] = env_kwargs\n",
        "\n",
        "dataset = ngym.Dataset(config['envid'], env_kwargs=config['env_kwargs'], batch_size=config['batch_size'], seq_len=config['seq_len']) # Generate dataset\n",
        "env = dataset.env\n",
        "\n",
        "inputs, target = dataset() # Assing inputs and targets\n",
        "inputs = torch.from_numpy(inputs).type(torch.float)\n",
        "\n",
        "input_size = env.observation_space.shape[0] # Find dimensions for data\n",
        "output_size = env.action_space.n\n",
        "\n",
        "print('Input has shape (SeqLen, Batch, Dim) =', inputs.shape)\n",
        "print('Target has shape (SeqLen, Batch) =', target.shape)"
      ],
      "metadata": {
        "colab": {
          "base_uri": "https://localhost:8080/"
        },
        "id": "kEqrXBuGlbO6",
        "outputId": "985fe103-69ae-4902-d7bd-4db4fc07f822"
      },
      "execution_count": 4,
      "outputs": [
        {
          "output_type": "stream",
          "name": "stderr",
          "text": [
            "/usr/local/lib/python3.10/dist-packages/gym/utils/passive_env_checker.py:69: UserWarning: \u001b[33mWARN: Agent's minimum action space value is -infinity. This is probably too low.\u001b[0m\n",
            "  logger.warn(\n",
            "/usr/local/lib/python3.10/dist-packages/gym/utils/passive_env_checker.py:73: UserWarning: \u001b[33mWARN: Agent's maximum action space value is infinity. This is probably too high\u001b[0m\n",
            "  logger.warn(\n",
            "/usr/local/lib/python3.10/dist-packages/gym/utils/passive_env_checker.py:97: UserWarning: \u001b[33mWARN: We recommend you to use a symmetric and normalized Box action space (range=[-1, 1]) https://stable-baselines3.readthedocs.io/en/master/guide/rl_tips.html\u001b[0m\n",
            "  logger.warn(\n"
          ]
        },
        {
          "output_type": "stream",
          "name": "stdout",
          "text": [
            "Input has shape (SeqLen, Batch, Dim) = torch.Size([50, 32, 3])\n",
            "Target has shape (SeqLen, Batch) = (50, 32)\n"
          ]
        }
      ]
    },
    {
      "cell_type": "markdown",
      "source": [
        "### Training the model"
      ],
      "metadata": {
        "id": "77PBTEEOlxQB"
      }
    },
    {
      "cell_type": "code",
      "source": [
        "iter_steps = 3000 # Training loops\n",
        "report_freq = 100 # How often a report on is returned\n",
        "l1_beta = 0.3 # Sparsity control\n",
        "\n",
        "net = LSTMNet(input_size, config['hidden_size'], output_size, num_lstm_layers = 2) # Create an instance of the LSTM\n",
        "\n",
        "def train_model(net, dataset, iter_steps, report_freq, l1_beta):\n",
        "\n",
        "    optimizer = optim.Adam(net.parameters(), lr=0.0003) # Adam optimiser\n",
        "    criterion = nn.CrossEntropyLoss() # Loss funciton\n",
        "\n",
        "    running_loss = 0\n",
        "    running_acc = 0\n",
        "    losses = []\n",
        "    accuracies = []\n",
        "    start_time = time.time() # Start training timer\n",
        "\n",
        "    for i in range(iter_steps):  # Loop over training batches\n",
        "        inputs, labels = dataset()  # Generate a set of data\n",
        "        inputs = torch.from_numpy(inputs).type(torch.float)\n",
        "        labels = torch.from_numpy(labels.flatten()).type(torch.long)\n",
        "\n",
        "        optimizer.zero_grad()  # Reset gradients\n",
        "        output, _ = net(inputs)\n",
        "        output = output.view(-1, output_size)\n",
        "        loss = criterion(output, labels)  # Calculate loss\n",
        "\n",
        "        l1_reg = 0 # Initialise the L1 Regularisation term\n",
        "        for name, param in net.named_parameters():\n",
        "            if \"weight\" in name and param.requires_grad: # Ensure that regularisation is only applied to trainable parts of the model\n",
        "                l1_reg += torch.sum(torch.abs(param)) # Sum the matrices\n",
        "        loss = criterion(output, labels) + l1_beta * l1_reg # Define new modified loss funciton\n",
        "        loss.backward()\n",
        "        optimizer.step()  # Update weights\n",
        "\n",
        "        batch_acc = (torch.argmax(output, dim=1) == labels).sum().item() / labels.shape[0]  # Current batch accuracy\n",
        "        losses.append(loss.item())\n",
        "        accuracies.append(batch_acc)\n",
        "\n",
        "        if i % report_freq == report_freq - 1:\n",
        "            running_loss = sum(losses[-report_freq:]) / report_freq\n",
        "            running_acc = sum(accuracies[-report_freq:]) / report_freq\n",
        "            print('Step {}, Loss {:0.4f}, Accuracy {:0.4f}, Time {:0.1f}s'.format(\n",
        "                i + 1, running_loss, running_acc, time.time() - start_time))\n",
        "            running_loss = 0 # Reset metrics for next report\n",
        "            running_acc = 0\n",
        "    return net, losses, accuracies\n",
        "\n",
        "net, losses, accuracies = train_model(net, dataset, iter_steps, report_freq, l1_beta) # Call the training function"
      ],
      "metadata": {
        "colab": {
          "base_uri": "https://localhost:8080/"
        },
        "id": "milzVKfVSmQT",
        "outputId": "a3dcd926-a69b-42ec-af82-daa59f738400"
      },
      "execution_count": 44,
      "outputs": [
        {
          "output_type": "stream",
          "name": "stderr",
          "text": [
            "/usr/local/lib/python3.10/dist-packages/ipykernel/ipkernel.py:283: DeprecationWarning: `should_run_async` will not call `transform_cell` automatically in the future. Please pass the result to `transformed_cell` argument and any exception that happen during thetransform in `preprocessing_exc_tuple` in IPython 7.17 and above.\n",
            "  and should_run_async(code)\n"
          ]
        },
        {
          "output_type": "stream",
          "name": "stdout",
          "text": [
            "Step 100, Loss 286.9799, Accuracy 0.6934, Time 0.8s\n",
            "Step 200, Loss 191.4250, Accuracy 0.9620, Time 1.3s\n",
            "Step 300, Loss 115.1393, Accuracy 0.9618, Time 1.8s\n",
            "Step 400, Loss 58.3597, Accuracy 0.9620, Time 2.3s\n",
            "Step 500, Loss 20.9716, Accuracy 0.9624, Time 2.9s\n",
            "Step 600, Loss 3.1938, Accuracy 0.9624, Time 3.7s\n",
            "Step 700, Loss 0.7028, Accuracy 0.9622, Time 4.1s\n",
            "Step 800, Loss 0.6761, Accuracy 0.9618, Time 4.6s\n",
            "Step 900, Loss 0.6565, Accuracy 0.9616, Time 4.9s\n",
            "Step 1000, Loss 0.6380, Accuracy 0.9618, Time 5.4s\n",
            "Step 1100, Loss 0.6201, Accuracy 0.9624, Time 5.8s\n",
            "Step 1200, Loss 0.6036, Accuracy 0.9620, Time 6.2s\n",
            "Step 1300, Loss 0.5879, Accuracy 0.9620, Time 6.6s\n",
            "Step 1400, Loss 0.5724, Accuracy 0.9628, Time 6.9s\n",
            "Step 1500, Loss 0.5590, Accuracy 0.9618, Time 7.3s\n",
            "Step 1600, Loss 0.5458, Accuracy 0.9614, Time 7.8s\n",
            "Step 1700, Loss 0.5328, Accuracy 0.9618, Time 8.2s\n",
            "Step 1800, Loss 0.5202, Accuracy 0.9622, Time 9.0s\n",
            "Step 1900, Loss 0.5081, Accuracy 0.9630, Time 9.6s\n",
            "Step 2000, Loss 0.4983, Accuracy 0.9618, Time 10.0s\n",
            "Step 2100, Loss 0.4877, Accuracy 0.9620, Time 10.5s\n",
            "Step 2200, Loss 0.4792, Accuracy 0.9608, Time 10.8s\n",
            "Step 2300, Loss 0.4679, Accuracy 0.9626, Time 11.3s\n",
            "Step 2400, Loss 0.4594, Accuracy 0.9622, Time 11.7s\n",
            "Step 2500, Loss 0.4530, Accuracy 0.9606, Time 12.2s\n",
            "Step 2600, Loss 0.4434, Accuracy 0.9620, Time 12.9s\n",
            "Step 2700, Loss 0.4349, Accuracy 0.9626, Time 13.6s\n",
            "Step 2800, Loss 0.4299, Accuracy 0.9610, Time 14.2s\n",
            "Step 2900, Loss 0.4225, Accuracy 0.9614, Time 14.7s\n",
            "Step 3000, Loss 0.4152, Accuracy 0.9620, Time 15.1s\n"
          ]
        }
      ]
    },
    {
      "cell_type": "markdown",
      "source": [
        "### Measuring the sparsity"
      ],
      "metadata": {
        "id": "3fNAW3kCWX3L"
      }
    },
    {
      "cell_type": "code",
      "source": [
        "sparsity = 0\n",
        "total_params = 0\n",
        "for param in net.parameters():\n",
        "    if param.requires_grad:\n",
        "        total_params += param.numel()\n",
        "        sparsity += torch.sum(param <= 0.00001).item()\n",
        "\n",
        "sparsity_ratio = sparsity / total_params\n",
        "print('Sparsity ratio:', sparsity_ratio)"
      ],
      "metadata": {
        "id": "T2lTaCuB6gfK",
        "outputId": "4146303f-3279-46d4-f304-56a4724024e6",
        "colab": {
          "base_uri": "https://localhost:8080/"
        }
      },
      "execution_count": 75,
      "outputs": [
        {
          "output_type": "stream",
          "name": "stdout",
          "text": [
            "Sparsity ratio: 0.5972075471698113\n"
          ]
        },
        {
          "output_type": "stream",
          "name": "stderr",
          "text": [
            "/usr/local/lib/python3.10/dist-packages/ipykernel/ipkernel.py:283: DeprecationWarning: `should_run_async` will not call `transform_cell` automatically in the future. Please pass the result to `transformed_cell` argument and any exception that happen during thetransform in `preprocessing_exc_tuple` in IPython 7.17 and above.\n",
            "  and should_run_async(code)\n"
          ]
        }
      ]
    },
    {
      "cell_type": "markdown",
      "source": [
        "### Peformance Metrics"
      ],
      "metadata": {
        "id": "a8eAE01F2ESX"
      }
    },
    {
      "cell_type": "code",
      "source": [
        "avg_losses = []\n",
        "avg_accuracies = []\n",
        "report_freq = 20\n",
        "for i in range(report_freq - 1, len(losses), report_freq):\n",
        "    avg_losses.append(sum(losses[i-report_freq+1:i+1]) / report_freq)\n",
        "    avg_accuracies.append(sum(accuracies[i-report_freq+1:i+1]) / report_freq)\n",
        "\n",
        "iterations = range(report_freq, len(losses) + 1, report_freq)\n",
        "\n",
        "import matplotlib.pyplot as plt\n",
        "plt.rcParams['font.family'] = 'sans-serif'\n",
        "plt.rcParams['font.sans-serif'] = ['DejaVu Sans']\n",
        "\n",
        "# Plot Loss\n",
        "plt.figure(figsize=(12, 3))\n",
        "plt.subplot(1, 2, 1)\n",
        "plt.plot(iterations, avg_losses, label='Loss', color='blue')\n",
        "plt.xlabel('Iterations')\n",
        "plt.ylabel('Loss')\n",
        "plt.title('Training Loss (Model 2, l1_beta = 0.3)')\n",
        "plt.legend()\n",
        "\n",
        "# Plot Accuracy\n",
        "plt.subplot(1, 2, 2)\n",
        "plt.plot(iterations, avg_accuracies, label='Accuracy', color='green')\n",
        "plt.xlabel('Iterations')\n",
        "plt.ylabel('Accuracy')\n",
        "plt.ylim(0.8, 1.01)\n",
        "plt.title('Training Accuracy (Model 2, l1_beta = 0.3)')\n",
        "plt.legend()\n",
        "\n",
        "plt.tight_layout()\n",
        "plt.show()"
      ],
      "metadata": {
        "id": "Np1xonD42DXj",
        "colab": {
          "base_uri": "https://localhost:8080/",
          "height": 370
        },
        "outputId": "ef4d373f-eac1-4638-8dc4-b86b64fc6450"
      },
      "execution_count": 79,
      "outputs": [
        {
          "output_type": "stream",
          "name": "stderr",
          "text": [
            "/usr/local/lib/python3.10/dist-packages/ipykernel/ipkernel.py:283: DeprecationWarning: `should_run_async` will not call `transform_cell` automatically in the future. Please pass the result to `transformed_cell` argument and any exception that happen during thetransform in `preprocessing_exc_tuple` in IPython 7.17 and above.\n",
            "  and should_run_async(code)\n"
          ]
        },
        {
          "output_type": "display_data",
          "data": {
            "text/plain": [
              "<Figure size 1200x300 with 2 Axes>"
            ],
            "image/png": "[encoded data removed]"
          },
          "metadata": {}
        }
      ]
    },
    {
      "cell_type": "markdown",
      "source": [
        "### Plot weight matrix"
      ],
      "metadata": {
        "id": "JDXnyKnRazF2"
      }
    },
    {
      "cell_type": "code",
      "source": [
        "\n",
        "\n",
        "weight_name = 'weight_hh_l1'  # Replace with the desired weight matrix name\n",
        "\n",
        "W = getattr(net.lstm, weight_name).detach().numpy()\n",
        "wlim = np.max(np.abs(W))\n",
        "print(f'Max weight value in {weight_name}: {wlim}')\n",
        "\n",
        "W_min = np.min(W)\n",
        "W_max = np.max(W)\n",
        "W = 2 * (W - W_min) / (W_max - W_min) - 1\n",
        "wlim = np.max(np.abs(W))\n",
        "\n",
        "plt.figure(figsize=(3, 4))\n",
        "plt.imshow(W, cmap='bwr_r',vmin=-wlim, vmax=wlim, aspect='auto')  # 'aspect=auto' ensures good scaling\n",
        "plt.colorbar()\n",
        "plt.xlabel('From neurons')\n",
        "plt.ylabel('To neurons')\n",
        "plt.title(f'Model 2 Weight Matrix: {weight_name}')\n",
        "\n",
        "plt.tight_layout()\n",
        "plt.show()"
      ],
      "metadata": {
        "colab": {
          "base_uri": "https://localhost:8080/",
          "height": 207
        },
        "id": "x3cc9tKddGUO",
        "outputId": "1f29f9f7-1530-422e-a9d4-0ff976515340"
      },
      "execution_count": 1,
      "outputs": [
        {
          "output_type": "error",
          "ename": "NameError",
          "evalue": "name 'net' is not defined",
          "traceback": [
            "\u001b[0;31m---------------------------------------------------------------------------\u001b[0m",
            "\u001b[0;31mNameError\u001b[0m                                 Traceback (most recent call last)",
            "\u001b[0;32m<ipython-input-1-b04ecc352c6d>\u001b[0m in \u001b[0;36m<cell line: 5>\u001b[0;34m()\u001b[0m\n\u001b[1;32m      3\u001b[0m \u001b[0mweight_name\u001b[0m \u001b[0;34m=\u001b[0m \u001b[0;34m'weight_hh_l1'\u001b[0m  \u001b[0;31m# Replace with the desired weight matrix name\u001b[0m\u001b[0;34m\u001b[0m\u001b[0;34m\u001b[0m\u001b[0m\n\u001b[1;32m      4\u001b[0m \u001b[0;34m\u001b[0m\u001b[0m\n\u001b[0;32m----> 5\u001b[0;31m \u001b[0mW\u001b[0m \u001b[0;34m=\u001b[0m \u001b[0mgetattr\u001b[0m\u001b[0;34m(\u001b[0m\u001b[0mnet\u001b[0m\u001b[0;34m.\u001b[0m\u001b[0mlstm\u001b[0m\u001b[0;34m,\u001b[0m \u001b[0mweight_name\u001b[0m\u001b[0;34m)\u001b[0m\u001b[0;34m.\u001b[0m\u001b[0mdetach\u001b[0m\u001b[0;34m(\u001b[0m\u001b[0;34m)\u001b[0m\u001b[0;34m.\u001b[0m\u001b[0mnumpy\u001b[0m\u001b[0;34m(\u001b[0m\u001b[0;34m)\u001b[0m\u001b[0;34m\u001b[0m\u001b[0;34m\u001b[0m\u001b[0m\n\u001b[0m\u001b[1;32m      6\u001b[0m \u001b[0mwlim\u001b[0m \u001b[0;34m=\u001b[0m \u001b[0mnp\u001b[0m\u001b[0;34m.\u001b[0m\u001b[0mmax\u001b[0m\u001b[0;34m(\u001b[0m\u001b[0mnp\u001b[0m\u001b[0;34m.\u001b[0m\u001b[0mabs\u001b[0m\u001b[0;34m(\u001b[0m\u001b[0mW\u001b[0m\u001b[0;34m)\u001b[0m\u001b[0;34m)\u001b[0m\u001b[0;34m\u001b[0m\u001b[0;34m\u001b[0m\u001b[0m\n\u001b[1;32m      7\u001b[0m \u001b[0mprint\u001b[0m\u001b[0;34m(\u001b[0m\u001b[0;34mf'Max weight value in {weight_name}: {wlim}'\u001b[0m\u001b[0;34m)\u001b[0m\u001b[0;34m\u001b[0m\u001b[0;34m\u001b[0m\u001b[0m\n",
            "\u001b[0;31mNameError\u001b[0m: name 'net' is not defined"
          ]
        }
      ]
    },
    {
      "cell_type": "markdown",
      "source": [
        "### Testing"
      ],
      "metadata": {
        "id": "IfN6I4Ey-XCi"
      }
    },
    {
      "cell_type": "code",
      "source": [
        "dataset = ngym.Dataset(config['envid'], env_kwargs=config['env_kwargs'], batch_size=1, seq_len=config['seq_len']) # Generate dataset\n",
        "env = dataset.env # Reset environment\n",
        "\n",
        "env.reset(no_step=True)\n",
        "all_activity = []\n",
        "all_labels = []\n",
        "\n",
        "for i in range(1000):\n",
        "    env.new_trial()\n",
        "    test_inputs, test_labels = dataset()\n",
        "    test_inputs = torch.from_numpy(test_inputs).type(torch.float)\n",
        "    test_labels = torch.from_numpy(test_labels.flatten()).type(torch.long)\n",
        "    test_accs = []\n",
        "    with torch.no_grad():\n",
        "        test_output, act = net(test_inputs)\n",
        "        test_output = test_output.view(-1, output_size)\n",
        "        criterion = nn.CrossEntropyLoss()\n",
        "        test_loss = criterion(test_output, test_labels)\n",
        "        all_activity.append(act.numpy())\n",
        "        all_labels.append(test_labels.numpy())\n",
        "        test_acc = (torch.argmax(test_output, dim=1) == test_labels).sum().item() / test_labels.shape[0]\n",
        "        test_accs.append(test_acc)\n",
        "\n",
        "print('Test Accuracy:', np.mean(test_accs))"
      ],
      "metadata": {
        "colab": {
          "base_uri": "https://localhost:8080/"
        },
        "id": "FWqjVx08i1Tj",
        "outputId": "dbe1be1d-2472-40d3-8fcf-3e1ca5f4325a"
      },
      "execution_count": 45,
      "outputs": [
        {
          "output_type": "stream",
          "name": "stderr",
          "text": [
            "/usr/local/lib/python3.10/dist-packages/ipykernel/ipkernel.py:283: DeprecationWarning: `should_run_async` will not call `transform_cell` automatically in the future. Please pass the result to `transformed_cell` argument and any exception that happen during thetransform in `preprocessing_exc_tuple` in IPython 7.17 and above.\n",
            "  and should_run_async(code)\n",
            "/usr/local/lib/python3.10/dist-packages/gym/utils/passive_env_checker.py:69: UserWarning: \u001b[33mWARN: Agent's minimum action space value is -infinity. This is probably too low.\u001b[0m\n",
            "  logger.warn(\n",
            "/usr/local/lib/python3.10/dist-packages/gym/utils/passive_env_checker.py:73: UserWarning: \u001b[33mWARN: Agent's maximum action space value is infinity. This is probably too high\u001b[0m\n",
            "  logger.warn(\n",
            "/usr/local/lib/python3.10/dist-packages/gym/utils/passive_env_checker.py:97: UserWarning: \u001b[33mWARN: We recommend you to use a symmetric and normalized Box action space (range=[-1, 1]) https://stable-baselines3.readthedocs.io/en/master/guide/rl_tips.html\u001b[0m\n",
            "  logger.warn(\n"
          ]
        },
        {
          "output_type": "stream",
          "name": "stdout",
          "text": [
            "Test Accuracy: 0.96\n"
          ]
        }
      ]
    },
    {
      "cell_type": "markdown",
      "source": [
        "### PCA"
      ],
      "metadata": {
        "id": "cUpZ6bGKbDzA"
      }
    },
    {
      "cell_type": "code",
      "source": [
        "from sklearn.decomposition import PCA\n",
        "import matplotlib.pyplot as plt\n",
        "plt.rcParams['font.family'] = 'sans-serif'\n",
        "plt.rcParams['font.sans-serif'] = ['DejaVu Sans']\n",
        "\n",
        "activity = np.vstack(all_activity)\n",
        "labels = np.concatenate(all_labels)\n",
        "\n",
        "num_trials, seq_len, num_features = activity.shape\n",
        "activity = activity.reshape(num_trials, seq_len * num_features)\n",
        "\n",
        "pca = PCA(n_components=2)\n",
        "pca_result = pca.fit_transform(activity)\n",
        "\n",
        "plt.figure(figsize=(8, 6))\n",
        "plt.scatter(pca_result[:, 0], pca_result[:, 1], c=all_labels, cmap='cool' ,s=4)\n",
        "plt.colorbar()  # Color by test labels\n",
        "plt.title('PCA of Neural Activity')\n",
        "plt.xlabel('Principal Component 1')\n",
        "plt.ylabel('Principal Component 2')\n",
        "plt.show()"
      ],
      "metadata": {
        "id": "nvFuGgdDbFMy",
        "outputId": "42eac809-89b2-4f3d-a4ce-cb98ce62a08d",
        "colab": {
          "base_uri": "https://localhost:8080/",
          "height": 552
        }
      },
      "execution_count": 46,
      "outputs": [
        {
          "output_type": "display_data",
          "data": {
            "text/plain": [
              "<Figure size 800x600 with 2 Axes>"
            ],
            "image/png": "[encoded data removed]"
          },
          "metadata": {}
        }
      ]
    }
  ]
}